{
 "cells": [
  {
   "cell_type": "markdown",
   "id": "17764b08",
   "metadata": {},
   "source": [
    "### Resultaten Enquête toepasbaarheid Digital Human in klantenservice"
   ]
  },
  {
   "cell_type": "markdown",
   "id": "11dc9551",
   "metadata": {},
   "source": [
    "by Kyra Jongman"
   ]
  },
  {
   "cell_type": "markdown",
   "id": "586bc14b",
   "metadata": {},
   "source": [
    "### Inhoudsopgave"
   ]
  },
  {
   "cell_type": "markdown",
   "id": "9b75e3f7",
   "metadata": {},
   "source": [
    "- Importeren packages\n",
    "- Importeren & prepareren Typeform data\n",
    "- Importeren & prepareren Digital Human data\n",
    "- Samenvoegen Typeform en Digital Human data\n",
    "- Resultaten:\n",
    "    1.\tWat is de leeftijd distributie?\n",
    "    2.\tWilt de consument in de toekomst gebruik van een digital human?\n",
    "    3.\tIs er een verschil te zien tussen leeftijdsgroepen als er gekeken wordt naar het mogelijke gebruik van een digital human in de toekomst?\n",
    "    4.\tHoe vonden consumenten het gebruik van een digital human?\n",
    "    5.\tWat zijn volgens de consument de voordelen van een digital human?\n",
    "    6.\tWat zijn volgens de consument de nadelen van een digital human?\n",
    "    7.\tWat is de ervaring van een consument met een klantenservice?\n",
    "    8.\tIs er een verband tussen de wachttijd en de ervaring van consumenten met een klantenservice?\n",
    "    9.\tIs er een verschil te zien tussen leeftijdsgroepen als er gekeken wordt naar het soort contact dat ze opnemen met de klantenservice?\n",
    "    10.\tIs er een verschil te zien tussen leeftijdsgroepen als er gekeken wordt naar of zij liever contact opnemen met een digital human of een klantenservice medewerker?\n",
    "    11.\tIs er een verband te zien tussen de mening van consumenten over het gesprek met de digital human en of zij in de toekomst liever met een digital human of met een klantenservice medewerker willen praten?\n",
    "    12.\tStellen consumenten complexe vragen liever aan ‘echt’ mens?\n"
   ]
  },
  {
   "cell_type": "markdown",
   "id": "96c1cea1",
   "metadata": {},
   "source": [
    "### Importeren packages"
   ]
  },
  {
   "cell_type": "code",
   "execution_count": 1,
   "id": "e6f345fb",
   "metadata": {},
   "outputs": [],
   "source": [
    "import pandas as pd\n",
    "import matplotlib.pyplot as plt\n",
    "import seaborn as sns\n",
    "from transformers import pipeline\n",
    "from deep_translator import GoogleTranslator"
   ]
  },
  {
   "cell_type": "markdown",
   "id": "b8cf1208",
   "metadata": {},
   "source": [
    "### Importeren & prepareren Typeform data"
   ]
  },
  {
   "cell_type": "code",
   "execution_count": 2,
   "id": "ce7de99e",
   "metadata": {},
   "outputs": [],
   "source": [
    "#Responses typeform\n",
    "responses_typeform = pd.read_csv('responses.csv')\n",
    "\n",
    "#Drop columns\n",
    "responses_typeform = responses_typeform.drop(['#', 'Start Date (UTC)','Submit Date (UTC)', 'Network ID', 'Other', \n",
    "                                             'Zijn er volgens jou voordelen aan een digital human zoals Emily?', \n",
    "                                             'Zijn er volgens jou nadelen aan een digital human zoals Emily?',\n",
    "                                             \"Ik praat liever met een digital human dan met een 'echt' mens...\"], axis=1)\n",
    "\n",
    "#Rename columns\n",
    "responses_typeform = responses_typeform.rename(columns = {'Hi respondent, wat leuk dat je deze enquête wilt invullen! Wat is je naam?':'Naam',\n",
    "                                                          'Wat is je leeftijd?':'Leeftijd', \n",
    "                                                          'Wat vond je van het gesprek met de digital human Emily?': 'Mening_DH_Emily',\n",
    "                                                          'Heb je ooit contact opgenomen met de klantenservice?': 'Klantenservice_Benaderd',\n",
    "                                                          'Hoe neem je normaal gesproken contact op met een klantenservice?': 'Contact_Klantenservice', \n",
    "                                                          'Hoe waren over het algemeen jou ervaringen met een klantenservice?': 'Ervaring_Klantenservice', \n",
    "                                                          'Hoe lang heb je gemiddeld moeten wachten voordat je werd geholpen? ': 'Wachttijd', \n",
    "                                                          'Wat zijn deze voordelen?': 'Voordelen_DH', \n",
    "                                                          'Wat zijn deze nadelen?': 'Nadelen_DH', \n",
    "                                                          'Ik praat liever met een vrouwelijke digital human dan met een mannelijke...': 'V_VS_M', \n",
    "                                                          'Ik praat liever met een digital human dan met een klantenservicemedewerker...': 'DH_VS_Mens', \n",
    "                                                          \"Ik stel complexe vragen liever aan een 'echt' mens dan aan een digital human...\" : 'Complexe_Vragen', \n",
    "                                                          'Ik vind de digital human goed verstaanbaar...': 'DH_Verstaanbaar'\n",
    "                                                         })"
   ]
  },
  {
   "cell_type": "markdown",
   "id": "29a62993",
   "metadata": {},
   "source": [
    "### Importeren & prepareren Digital Human data"
   ]
  },
  {
   "cell_type": "code",
   "execution_count": 3,
   "id": "de2d53ba",
   "metadata": {},
   "outputs": [],
   "source": [
    "#Responses digital human\n",
    "responses_digitalhuman = pd.read_excel('Digital Human Responses.xlsx')\n",
    "\n",
    "#Drop columns\n",
    "responses_digitalhuman = responses_digitalhuman.drop(['Online besteld'], axis=1)\n",
    "\n",
    "#Rename columns\n",
    "responses_digitalhuman = responses_digitalhuman.rename(columns = {'Digital Human toekomst': 'Toekomst_DH', \n",
    "                                                                 'Klantenservice benaderd': 'Klantenservice_Benaderd'})\n"
   ]
  },
  {
   "cell_type": "markdown",
   "id": "ef902a20",
   "metadata": {},
   "source": [
    "### Samenvoegen Typeform en Digital Human data"
   ]
  },
  {
   "cell_type": "code",
   "execution_count": 4,
   "id": "4daada0a",
   "metadata": {
    "scrolled": true
   },
   "outputs": [
    {
     "data": {
      "text/html": [
       "<div>\n",
       "<style scoped>\n",
       "    .dataframe tbody tr th:only-of-type {\n",
       "        vertical-align: middle;\n",
       "    }\n",
       "\n",
       "    .dataframe tbody tr th {\n",
       "        vertical-align: top;\n",
       "    }\n",
       "\n",
       "    .dataframe thead th {\n",
       "        text-align: right;\n",
       "    }\n",
       "</style>\n",
       "<table border=\"1\" class=\"dataframe\">\n",
       "  <thead>\n",
       "    <tr style=\"text-align: right;\">\n",
       "      <th></th>\n",
       "      <th>Naam</th>\n",
       "      <th>Leeftijd</th>\n",
       "      <th>Mening_DH_Emily</th>\n",
       "      <th>Klantenservice_Benaderd</th>\n",
       "      <th>Contact_Klantenservice</th>\n",
       "      <th>Ervaring_Klantenservice</th>\n",
       "      <th>Wachttijd</th>\n",
       "      <th>Voordelen_DH</th>\n",
       "      <th>Nadelen_DH</th>\n",
       "      <th>V_VS_M</th>\n",
       "      <th>DH_VS_Mens</th>\n",
       "      <th>Complexe_Vragen</th>\n",
       "      <th>DH_Verstaanbaar</th>\n",
       "      <th>Waarom</th>\n",
       "      <th>Toekomst_DH</th>\n",
       "    </tr>\n",
       "  </thead>\n",
       "  <tbody>\n",
       "    <tr>\n",
       "      <th>0</th>\n",
       "      <td>Theo Spies</td>\n",
       "      <td>63</td>\n",
       "      <td>Wel mooi</td>\n",
       "      <td>Ja</td>\n",
       "      <td>Vooral via chatbot</td>\n",
       "      <td>Positief</td>\n",
       "      <td>Tussen de 0-10 minuten</td>\n",
       "      <td>Het is persoonlijk</td>\n",
       "      <td>Ze begrijpt niet alles</td>\n",
       "      <td>Neutraal</td>\n",
       "      <td>Niet mee eens</td>\n",
       "      <td>Mee eens</td>\n",
       "      <td>Mee eens</td>\n",
       "      <td>Had probleem met levering</td>\n",
       "      <td>Nee</td>\n",
       "    </tr>\n",
       "    <tr>\n",
       "      <th>1</th>\n",
       "      <td>Edith</td>\n",
       "      <td>57</td>\n",
       "      <td>Heel goed, duidelijk en makkelijk</td>\n",
       "      <td>Nee</td>\n",
       "      <td>NaN</td>\n",
       "      <td>NaN</td>\n",
       "      <td>NaN</td>\n",
       "      <td>Altijd bereikbaar. Niet dat je na een dag werk...</td>\n",
       "      <td>Ik heb ja gedrukt omdat ik niet weet in hoever...</td>\n",
       "      <td>Neutraal</td>\n",
       "      <td>Mee eens</td>\n",
       "      <td>Neutraal</td>\n",
       "      <td>Mee eens</td>\n",
       "      <td>Nog nooit nodig gehad</td>\n",
       "      <td>Ja</td>\n",
       "    </tr>\n",
       "    <tr>\n",
       "      <th>2</th>\n",
       "      <td>Renee</td>\n",
       "      <td>31</td>\n",
       "      <td>Goed, maar het gesprek ging nog niet inhoudeli...</td>\n",
       "      <td>Ja</td>\n",
       "      <td>Vooral via telefoon</td>\n",
       "      <td>Neutraal</td>\n",
       "      <td>Tussen de 0-10 minuten</td>\n",
       "      <td>Sneller</td>\n",
       "      <td>Moeilijk om de diepte in te gaan</td>\n",
       "      <td>Neutraal</td>\n",
       "      <td>Niet mee eens</td>\n",
       "      <td>Mee eens</td>\n",
       "      <td>Mee eens</td>\n",
       "      <td>Pakket kwijt</td>\n",
       "      <td>Nee</td>\n",
       "    </tr>\n",
       "    <tr>\n",
       "      <th>3</th>\n",
       "      <td>Marja</td>\n",
       "      <td>55</td>\n",
       "      <td>Prettig</td>\n",
       "      <td>Ja</td>\n",
       "      <td>Vooral via email</td>\n",
       "      <td>Positief</td>\n",
       "      <td>Tussen de 10-20 minuten</td>\n",
       "      <td>Snel contact en mogelijk sneller antwoord</td>\n",
       "      <td>Ben benieuwd of niet alleen standaard vragen o...</td>\n",
       "      <td>Neutraal</td>\n",
       "      <td>Neutraal</td>\n",
       "      <td>Mee eens</td>\n",
       "      <td>Mee eens</td>\n",
       "      <td>Prouct retour willen zenden maar kreeg geen re...</td>\n",
       "      <td>Ja</td>\n",
       "    </tr>\n",
       "    <tr>\n",
       "      <th>4</th>\n",
       "      <td>Ilja</td>\n",
       "      <td>28</td>\n",
       "      <td>Niet veel anders dan met een chatbot.</td>\n",
       "      <td>Ja</td>\n",
       "      <td>Vooral via email</td>\n",
       "      <td>Positief</td>\n",
       "      <td>20 minuten of langer</td>\n",
       "      <td>Voor sommige mensen kan het een lagere drempel...</td>\n",
       "      <td>Het blijft een chatbot, met complexere vragen ...</td>\n",
       "      <td>Neutraal</td>\n",
       "      <td>Niet mee eens</td>\n",
       "      <td>Mee eens</td>\n",
       "      <td>Mee eens</td>\n",
       "      <td>Pakket beschadigd</td>\n",
       "      <td>Nee</td>\n",
       "    </tr>\n",
       "    <tr>\n",
       "      <th>5</th>\n",
       "      <td>Hein Oudshoorn</td>\n",
       "      <td>64</td>\n",
       "      <td>Dit is wel beter dan een chatbox!!</td>\n",
       "      <td>Ja</td>\n",
       "      <td>Vooral via telefoon</td>\n",
       "      <td>Negatief</td>\n",
       "      <td>Tussen de 10-20 minuten</td>\n",
       "      <td>Je hebt meer het idee dat je gehoord wordt.</td>\n",
       "      <td>Ik denk dat zij niet veel anders kan dan een d...</td>\n",
       "      <td>Neutraal</td>\n",
       "      <td>Niet mee eens</td>\n",
       "      <td>Mee eens</td>\n",
       "      <td>Neutraal</td>\n",
       "      <td>Ik had een klacht over mijn geleverde product</td>\n",
       "      <td>Ja</td>\n",
       "    </tr>\n",
       "  </tbody>\n",
       "</table>\n",
       "</div>"
      ],
      "text/plain": [
       "             Naam  Leeftijd  \\\n",
       "0      Theo Spies        63   \n",
       "1           Edith        57   \n",
       "2           Renee        31   \n",
       "3           Marja        55   \n",
       "4            Ilja        28   \n",
       "5  Hein Oudshoorn        64   \n",
       "\n",
       "                                     Mening_DH_Emily Klantenservice_Benaderd  \\\n",
       "0                                           Wel mooi                      Ja   \n",
       "1                  Heel goed, duidelijk en makkelijk                     Nee   \n",
       "2  Goed, maar het gesprek ging nog niet inhoudeli...                      Ja   \n",
       "3                                            Prettig                      Ja   \n",
       "4              Niet veel anders dan met een chatbot.                      Ja   \n",
       "5                 Dit is wel beter dan een chatbox!!                      Ja   \n",
       "\n",
       "  Contact_Klantenservice Ervaring_Klantenservice                Wachttijd  \\\n",
       "0     Vooral via chatbot                Positief   Tussen de 0-10 minuten   \n",
       "1                    NaN                     NaN                      NaN   \n",
       "2    Vooral via telefoon                Neutraal   Tussen de 0-10 minuten   \n",
       "3       Vooral via email                Positief  Tussen de 10-20 minuten   \n",
       "4       Vooral via email                Positief     20 minuten of langer   \n",
       "5    Vooral via telefoon                Negatief  Tussen de 10-20 minuten   \n",
       "\n",
       "                                        Voordelen_DH  \\\n",
       "0                                 Het is persoonlijk   \n",
       "1  Altijd bereikbaar. Niet dat je na een dag werk...   \n",
       "2                                            Sneller   \n",
       "3          Snel contact en mogelijk sneller antwoord   \n",
       "4  Voor sommige mensen kan het een lagere drempel...   \n",
       "5        Je hebt meer het idee dat je gehoord wordt.   \n",
       "\n",
       "                                          Nadelen_DH    V_VS_M     DH_VS_Mens  \\\n",
       "0                             Ze begrijpt niet alles  Neutraal  Niet mee eens   \n",
       "1  Ik heb ja gedrukt omdat ik niet weet in hoever...  Neutraal       Mee eens   \n",
       "2                   Moeilijk om de diepte in te gaan  Neutraal  Niet mee eens   \n",
       "3  Ben benieuwd of niet alleen standaard vragen o...  Neutraal       Neutraal   \n",
       "4  Het blijft een chatbot, met complexere vragen ...  Neutraal  Niet mee eens   \n",
       "5  Ik denk dat zij niet veel anders kan dan een d...  Neutraal  Niet mee eens   \n",
       "\n",
       "  Complexe_Vragen DH_Verstaanbaar  \\\n",
       "0        Mee eens        Mee eens   \n",
       "1        Neutraal        Mee eens   \n",
       "2        Mee eens        Mee eens   \n",
       "3        Mee eens        Mee eens   \n",
       "4        Mee eens        Mee eens   \n",
       "5        Mee eens        Neutraal   \n",
       "\n",
       "                                              Waarom Toekomst_DH  \n",
       "0                          Had probleem met levering         Nee  \n",
       "1                              Nog nooit nodig gehad          Ja  \n",
       "2                                       Pakket kwijt         Nee  \n",
       "3  Prouct retour willen zenden maar kreeg geen re...          Ja  \n",
       "4                                  Pakket beschadigd         Nee  \n",
       "5      Ik had een klacht over mijn geleverde product          Ja  "
      ]
     },
     "execution_count": 4,
     "metadata": {},
     "output_type": "execute_result"
    }
   ],
   "source": [
    "results = pd.merge(responses_typeform, responses_digitalhuman, on=['Naam', 'Klantenservice_Benaderd'])\n",
    "results.head(6)"
   ]
  },
  {
   "cell_type": "markdown",
   "id": "78622db5",
   "metadata": {},
   "source": [
    "### Resultaten"
   ]
  },
  {
   "cell_type": "markdown",
   "id": "b191025c",
   "metadata": {},
   "source": [
    "#### Functie om data te categoriseren in  Positief, Neutraal en Negatief"
   ]
  },
  {
   "cell_type": "code",
   "execution_count": 5,
   "id": "6d938be4",
   "metadata": {},
   "outputs": [],
   "source": [
    "def classification(column, list_name):\n",
    "    classifier = pipeline(\"sentiment-analysis\", model=\"nlptown/bert-base-multilingual-uncased-sentiment\")\n",
    "    for row in column:\n",
    "        translated_textResponse = GoogleTranslator(source='nl', target='fr').translate(row)\n",
    "        translated_text = GoogleTranslator(source='fr', target='en').translate(translated_textResponse)\n",
    "        \n",
    "        prediction = classifier(translated_text)[0]\n",
    "        if prediction['label'] == '5 stars':\n",
    "            list_name.append(\"Positief\")\n",
    "        elif prediction['label'] == '4 stars':\n",
    "            list_name.append(\"Positief\")\n",
    "        elif prediction['label'] == '3 stars':\n",
    "            list_name.append(\"Neutraal\")\n",
    "        elif prediction['label'] == '2 stars':\n",
    "            list_name.append(\"Negatief\")\n",
    "        else:\n",
    "            list_name.append(\"Negatief\")     "
   ]
  },
  {
   "cell_type": "markdown",
   "id": "2842d401",
   "metadata": {},
   "source": [
    "#### 1. Wat is de leeftijd distributie?"
   ]
  },
  {
   "cell_type": "code",
   "execution_count": 5,
   "id": "3f1f600a",
   "metadata": {
    "scrolled": false
   },
   "outputs": [
    {
     "name": "stdout",
     "output_type": "stream",
     "text": [
      "Jongste respondent is: 19 jaar en oudste respondent is: 82 jaar\n"
     ]
    },
    {
     "data": {
      "image/png": "[encoded data removed]",
      "text/plain": [
       "<Figure size 432x288 with 1 Axes>"
      ]
     },
     "metadata": {
      "needs_background": "light"
     },
     "output_type": "display_data"
    }
   ],
   "source": [
    "bins = [18, 29, 39, 49, 59, 69, 119]\n",
    "labels = ['18-29', '30-39', '40-49', '50-59', '60-69', '70+']\n",
    "results['age_range'] = pd.cut(results.Leeftijd, bins, labels = labels,include_lowest = True)\n",
    "\n",
    "print(\"Jongste respondent is: \" + str(min(results.Leeftijd)) + \" jaar en oudste respondent is: \" + \n",
    "      str(max(results.Leeftijd)) + \" jaar\")\n",
    "sns.histplot(data=results, x=\"age_range\").set_title(\"Leefijd Distributie\");"
   ]
  },
  {
   "cell_type": "code",
   "execution_count": 10,
   "id": "52a41878",
   "metadata": {},
   "outputs": [
    {
     "data": {
      "text/html": [
       "<div>\n",
       "<style scoped>\n",
       "    .dataframe tbody tr th:only-of-type {\n",
       "        vertical-align: middle;\n",
       "    }\n",
       "\n",
       "    .dataframe tbody tr th {\n",
       "        vertical-align: top;\n",
       "    }\n",
       "\n",
       "    .dataframe thead th {\n",
       "        text-align: right;\n",
       "    }\n",
       "</style>\n",
       "<table border=\"1\" class=\"dataframe\">\n",
       "  <thead>\n",
       "    <tr style=\"text-align: right;\">\n",
       "      <th></th>\n",
       "      <th>Naam</th>\n",
       "      <th>Leeftijd</th>\n",
       "      <th>Mening_DH_Emily</th>\n",
       "      <th>Klantenservice_Benaderd</th>\n",
       "      <th>Contact_Klantenservice</th>\n",
       "      <th>Ervaring_Klantenservice</th>\n",
       "      <th>Wachttijd</th>\n",
       "      <th>Voordelen_DH</th>\n",
       "      <th>Nadelen_DH</th>\n",
       "      <th>V_VS_M</th>\n",
       "      <th>DH_VS_Mens</th>\n",
       "      <th>Complexe_Vragen</th>\n",
       "      <th>DH_Verstaanbaar</th>\n",
       "      <th>Waarom</th>\n",
       "      <th>Toekomst_DH</th>\n",
       "      <th>age_range</th>\n",
       "    </tr>\n",
       "  </thead>\n",
       "  <tbody>\n",
       "    <tr>\n",
       "      <th>2</th>\n",
       "      <td>Renee</td>\n",
       "      <td>31</td>\n",
       "      <td>Goed, maar het gesprek ging nog niet inhoudeli...</td>\n",
       "      <td>Ja</td>\n",
       "      <td>Vooral via telefoon</td>\n",
       "      <td>Neutraal</td>\n",
       "      <td>Tussen de 0-10 minuten</td>\n",
       "      <td>Sneller</td>\n",
       "      <td>Moeilijk om de diepte in te gaan</td>\n",
       "      <td>Neutraal</td>\n",
       "      <td>Niet mee eens</td>\n",
       "      <td>Mee eens</td>\n",
       "      <td>Mee eens</td>\n",
       "      <td>Pakket kwijt</td>\n",
       "      <td>Nee</td>\n",
       "      <td>30-39</td>\n",
       "    </tr>\n",
       "    <tr>\n",
       "      <th>20</th>\n",
       "      <td>Sharina</td>\n",
       "      <td>30</td>\n",
       "      <td>Prima, gelukkig niet een te houterige stem.</td>\n",
       "      <td>Ja</td>\n",
       "      <td>Vooral via chatbot</td>\n",
       "      <td>Positief</td>\n",
       "      <td>Tussen de 0-10 minuten</td>\n",
       "      <td>Voordelen zijn o.a dat het persoonlijker aanvo...</td>\n",
       "      <td>Het moet goed en realistisch uitgevoerd worden...</td>\n",
       "      <td>Neutraal</td>\n",
       "      <td>Niet mee eens</td>\n",
       "      <td>Mee eens</td>\n",
       "      <td>Mee eens</td>\n",
       "      <td>Gemakkelijker dan lange wachtrijen (bellen), d...</td>\n",
       "      <td>Persoonlijk maakt het mij niet zoveel uit of i...</td>\n",
       "      <td>30-39</td>\n",
       "    </tr>\n",
       "    <tr>\n",
       "      <th>34</th>\n",
       "      <td>Carmen</td>\n",
       "      <td>32</td>\n",
       "      <td>Kort en duidelijk</td>\n",
       "      <td>Ja</td>\n",
       "      <td>Vooral via email</td>\n",
       "      <td>Neutraal</td>\n",
       "      <td>Tussen de 10-20 minuten</td>\n",
       "      <td>Sneller hulp</td>\n",
       "      <td>Niet juist begrijpen van het probleem</td>\n",
       "      <td>Neutraal</td>\n",
       "      <td>Mee eens</td>\n",
       "      <td>Mee eens</td>\n",
       "      <td>Mee eens</td>\n",
       "      <td>Niet geleverde artikelen</td>\n",
       "      <td>Ja</td>\n",
       "      <td>30-39</td>\n",
       "    </tr>\n",
       "    <tr>\n",
       "      <th>37</th>\n",
       "      <td>Vincent</td>\n",
       "      <td>33</td>\n",
       "      <td>Het is beter dan een chatbot</td>\n",
       "      <td>Ja</td>\n",
       "      <td>Vooral via telefoon</td>\n",
       "      <td>Negatief</td>\n",
       "      <td>Tussen de 0-10 minuten</td>\n",
       "      <td>NaN</td>\n",
       "      <td>In feite is het een chatbot. Probleem met chat...</td>\n",
       "      <td>Mee eens</td>\n",
       "      <td>Niet mee eens</td>\n",
       "      <td>Mee eens</td>\n",
       "      <td>Mee eens</td>\n",
       "      <td>Vaak om te begrijpen waar mijn bestelling blijft</td>\n",
       "      <td>Nee</td>\n",
       "      <td>30-39</td>\n",
       "    </tr>\n",
       "  </tbody>\n",
       "</table>\n",
       "</div>"
      ],
      "text/plain": [
       "       Naam  Leeftijd                                    Mening_DH_Emily  \\\n",
       "2     Renee        31  Goed, maar het gesprek ging nog niet inhoudeli...   \n",
       "20  Sharina        30        Prima, gelukkig niet een te houterige stem.   \n",
       "34   Carmen        32                                  Kort en duidelijk   \n",
       "37  Vincent        33                       Het is beter dan een chatbot   \n",
       "\n",
       "   Klantenservice_Benaderd Contact_Klantenservice Ervaring_Klantenservice  \\\n",
       "2                       Ja    Vooral via telefoon                Neutraal   \n",
       "20                      Ja     Vooral via chatbot                Positief   \n",
       "34                      Ja       Vooral via email                Neutraal   \n",
       "37                      Ja    Vooral via telefoon                Negatief   \n",
       "\n",
       "                  Wachttijd  \\\n",
       "2    Tussen de 0-10 minuten   \n",
       "20   Tussen de 0-10 minuten   \n",
       "34  Tussen de 10-20 minuten   \n",
       "37   Tussen de 0-10 minuten   \n",
       "\n",
       "                                         Voordelen_DH  \\\n",
       "2                                             Sneller   \n",
       "20  Voordelen zijn o.a dat het persoonlijker aanvo...   \n",
       "34                                       Sneller hulp   \n",
       "37                                                NaN   \n",
       "\n",
       "                                           Nadelen_DH    V_VS_M  \\\n",
       "2                    Moeilijk om de diepte in te gaan  Neutraal   \n",
       "20  Het moet goed en realistisch uitgevoerd worden...  Neutraal   \n",
       "34              Niet juist begrijpen van het probleem  Neutraal   \n",
       "37  In feite is het een chatbot. Probleem met chat...  Mee eens   \n",
       "\n",
       "       DH_VS_Mens Complexe_Vragen DH_Verstaanbaar  \\\n",
       "2   Niet mee eens        Mee eens        Mee eens   \n",
       "20  Niet mee eens        Mee eens        Mee eens   \n",
       "34       Mee eens        Mee eens        Mee eens   \n",
       "37  Niet mee eens        Mee eens        Mee eens   \n",
       "\n",
       "                                               Waarom  \\\n",
       "2                                        Pakket kwijt   \n",
       "20  Gemakkelijker dan lange wachtrijen (bellen), d...   \n",
       "34                          Niet geleverde artikelen    \n",
       "37   Vaak om te begrijpen waar mijn bestelling blijft   \n",
       "\n",
       "                                          Toekomst_DH age_range  \n",
       "2                                                 Nee     30-39  \n",
       "20  Persoonlijk maakt het mij niet zoveel uit of i...     30-39  \n",
       "34                                                 Ja     30-39  \n",
       "37                                                Nee     30-39  "
      ]
     },
     "execution_count": 10,
     "metadata": {},
     "output_type": "execute_result"
    }
   ],
   "source": [
    "results[results['age_range'] == '30-39']"
   ]
  },
  {
   "cell_type": "code",
   "execution_count": 9,
   "id": "1ba84a11",
   "metadata": {},
   "outputs": [
    {
     "name": "stdout",
     "output_type": "stream",
     "text": [
      "Moeilijk om de diepte in te gaan\n",
      "Het moet goed en realistisch uitgevoerd worden. Wanneer de digital human te houterig of pixelig eruit ziet zou ik snel afhaken en komt het daarnaast onprofessioneel over. Je moet het goed doen en anders niet.\n",
      "Niet juist begrijpen van het probleem\n",
      "In feite is het een chatbot. Probleem met chatbots is dat ze alleen voorgeprogrammeerde antwoorden kennen (tot nu toe, toekomst misschien anders). En juist die antwoorden kan je altijd al op de website vinden\n"
     ]
    }
   ],
   "source": [
    "for i in results[results['age_range'] == '30-39']['Nadelen_DH']:\n",
    "    print(i)"
   ]
  },
  {
   "cell_type": "markdown",
   "id": "0bcb17d7",
   "metadata": {},
   "source": [
    "Tot op heden hebben 43 respondenten deelgenomen aan de enquête. De leeftijden van de respondenten variëren tussen de 19 en 82 jaar. "
   ]
  },
  {
   "cell_type": "markdown",
   "id": "ca39628c",
   "metadata": {},
   "source": [
    "#### 2. Wilt de consument in de toekomst gebruik maken van een digital human?"
   ]
  },
  {
   "cell_type": "code",
   "execution_count": 18,
   "id": "ab54557e",
   "metadata": {
    "scrolled": false
   },
   "outputs": [
    {
     "data": {
      "image/png": "[encoded data removed]",
      "text/plain": [
       "<Figure size 432x288 with 1 Axes>"
      ]
     },
     "metadata": {
      "needs_background": "light"
     },
     "output_type": "display_data"
    }
   ],
   "source": [
    "Toekomst_DH_List = []\n",
    "classification(results['Toekomst_DH'], Toekomst_DH_List)\n",
    "sns.histplot(data=Toekomst_DH_List).set_title(\"Toekomst gebruik maken van een digital human over alle leeftijdsgroepen\");"
   ]
  },
  {
   "cell_type": "markdown",
   "id": "f8c0dc4b",
   "metadata": {},
   "source": [
    "Van de 43 respondenten zijn 31 respondenten positief over het gebruik van een digital human in de klantenservice. 8 respondenten zeggen er geen gebruik van willen te maken en 4 respondenten weten het nog niet.  "
   ]
  },
  {
   "cell_type": "markdown",
   "id": "d6d2aa71",
   "metadata": {},
   "source": [
    "#### 3. Is er een verschil te zien tussen leeftijsgroepen als er gekeken wordt naar het mogelijke gebruik van een digital human in de toekomst?"
   ]
  },
  {
   "cell_type": "markdown",
   "id": "4ecd3fc7",
   "metadata": {},
   "source": [
    "Leeftijdsgroepen 18-29 jaar, 30-60 jaar en 60 +"
   ]
  },
  {
   "cell_type": "code",
   "execution_count": 115,
   "id": "4b881a6d",
   "metadata": {
    "scrolled": true
   },
   "outputs": [
    {
     "data": {
      "image/png": "[encoded data removed]",
      "text/plain": [
       "<Figure size 432x288 with 1 Axes>"
      ]
     },
     "metadata": {
      "needs_background": "light"
     },
     "output_type": "display_data"
    }
   ],
   "source": [
    "bins = [18, 29, 59, 119]\n",
    "labels = ['18-29', '30-60', '60+']\n",
    "new_df5 = pd.DataFrame({'age_range' : [], 'toekomst_dh': []})\n",
    "new_df5['age_range'] = pd.cut(results.Leeftijd, bins, labels = labels,include_lowest = True)\n",
    "new_df5['toekomst_dh'] = Toekomst_DH_List\n",
    "\n",
    "new_df5 = new_df5.groupby(['age_range', 'toekomst_dh']).size().reset_index()\n",
    "new_df5 = new_df5.rename(columns = {0: 'Aantal'})\n",
    "\n",
    "a = new_df5.groupby('age_range').sum().reset_index()\n",
    "mapper = dict(zip(a['age_range'],a['Aantal']))\n",
    "new_df5['totaal'] = new_df5['age_range'].map(mapper)\n",
    "\n",
    "percentage_list = []\n",
    "for i in range(0, len(new_df5)):\n",
    "    percentage_list.append(new_df5.loc[i]['Aantal']/new_df5.loc[i]['totaal'])\n",
    "new_df5['Percentage'] = percentage_list\n",
    "\n",
    "sns.barplot(x='age_range', y='Percentage', hue='toekomst_dh', data=new_df5, palette=\"Blues_d\").set_title('Gebruik digital human in toekomst per leeftijdsgroep')\n",
    "plt.legend(title='Toekomst', loc='upper right');"
   ]
  },
  {
   "cell_type": "markdown",
   "id": "702613c6",
   "metadata": {},
   "source": [
    "Leeftijdsgroepen 18-29 jaar, 30-39 jaar, 40-49 jaar, 50-59 jaar, 60-69 jaar en 70 +"
   ]
  },
  {
   "cell_type": "code",
   "execution_count": 16,
   "id": "38300b98",
   "metadata": {
    "scrolled": true
   },
   "outputs": [
    {
     "data": {
      "image/png": "[encoded data removed]",
      "text/plain": [
       "<Figure size 432x288 with 1 Axes>"
      ]
     },
     "metadata": {
      "needs_background": "light"
     },
     "output_type": "display_data"
    }
   ],
   "source": [
    "new_df = pd.DataFrame({'age_range' : [], 'toekomst_dh': []})\n",
    "new_df['age_range'] = results['age_range']\n",
    "new_df['toekomst_dh'] = Toekomst_DH_List\n",
    "\n",
    "new_df = new_df.groupby(['age_range', 'toekomst_dh']).size().reset_index()\n",
    "new_df = new_df.rename(columns = {0: 'Aantal'})\n",
    "\n",
    "a = new_df.groupby('age_range').sum().reset_index()\n",
    "mapper = dict(zip(a['age_range'],a['Aantal']))\n",
    "new_df['totaal'] = new_df['age_range'].map(mapper)\n",
    "\n",
    "percentage_list2 = []\n",
    "for i in range(0, len(new_df)):\n",
    "    percentage_list2.append(new_df.loc[i]['Aantal']/new_df.loc[i]['totaal'])\n",
    "new_df['Percentage'] = percentage_list2\n",
    "\n",
    "sns.barplot(x='age_range', y='Percentage', hue='toekomst_dh', data=new_df, palette=\"Blues_d\").set_title('Gebruik digital human in toekomst per leeftijdsgroep')\n",
    "plt.legend(title='Toekomst', loc='upper right');"
   ]
  },
  {
   "cell_type": "markdown",
   "id": "8c9326e6",
   "metadata": {},
   "source": [
    "Binnen alle leeftijdsgroepen is te zien dat ze in de toekomst graag gebruik willen maken van een digital human. Meer dan 80% van de leeftijdsgroep 18-29 jaar is bereid om in de toekomst contact op te nemen met een digital human om hun te vragen te beantwoorden. De respondenten ouder dan 60 jaar vinden het in de toekomst ook prima om contact op te nemen met een digital human i.p.v. een klantenservice medewerker. Het  percentage is 57%. "
   ]
  },
  {
   "cell_type": "code",
   "execution_count": 19,
   "id": "38ec7250",
   "metadata": {},
   "outputs": [
    {
     "data": {
      "image/png": "[encoded data removed]",
      "text/plain": [
       "<Figure size 432x288 with 1 Axes>"
      ]
     },
     "metadata": {
      "needs_background": "light"
     },
     "output_type": "display_data"
    }
   ],
   "source": [
    "new_df6 = new_df[new_df['age_range'] == '30-39']\n",
    "sns.barplot(x='age_range', y='Percentage', hue='toekomst_dh', data=new_df6, palette=\"Blues_d\").set_title('Gebruik digital human in toekomst leeftijdsgroep 30-39 jaar')\n",
    "plt.legend(title='Toekomst', loc='upper right');"
   ]
  },
  {
   "cell_type": "markdown",
   "id": "5c8aab72",
   "metadata": {},
   "source": [
    "30-jarige respondenten laten wisselende meningen zien in resultaten van de enquête over het gebruik van een digital human in de toekomst. Zo zijn maar 25% van de 30-jarige respondenten positief."
   ]
  },
  {
   "cell_type": "markdown",
   "id": "7b007cb8",
   "metadata": {},
   "source": [
    "#### 4. Hoe vonden consumenten het gebruik van een digital human?"
   ]
  },
  {
   "cell_type": "code",
   "execution_count": 11,
   "id": "b8c86367",
   "metadata": {
    "scrolled": true
   },
   "outputs": [
    {
     "data": {
      "image/png": "[encoded data removed]",
      "text/plain": [
       "<Figure size 432x288 with 1 Axes>"
      ]
     },
     "metadata": {
      "needs_background": "light"
     },
     "output_type": "display_data"
    }
   ],
   "source": [
    "Mening_DH_List = []\n",
    "classification(results['Mening_DH_Emily'], Mening_DH_List)\n",
    "sns.histplot(data=Mening_DH_List).set_title(\"Mening van consument over gesprek Digital Human\");"
   ]
  },
  {
   "cell_type": "markdown",
   "id": "4dba406c",
   "metadata": {},
   "source": [
    "Van de 43 respondenten zijn 27 respondenten zeer te spreken over het korte gesprek met de digital human. Ze vonden het leuk, grappig en vooral ook heel interessant. Enkele respondenten die iets minder te spreken waren over het gesprek met de digital human, vonden het vreemd en onwennig."
   ]
  },
  {
   "cell_type": "markdown",
   "id": "faa07231",
   "metadata": {},
   "source": [
    "#### 5. Wat zijn volgens de consumenten de voordelen van een digital human?"
   ]
  },
  {
   "cell_type": "code",
   "execution_count": 12,
   "id": "c6501523",
   "metadata": {
    "collapsed": true
   },
   "outputs": [
    {
     "name": "stdout",
     "output_type": "stream",
     "text": [
      "Het is persoonlijk\n",
      "Altijd bereikbaar. Niet dat je na een dag werken net te laat bent om te bellen.  Meer menselijk contact. Niet zo'n computer die na je antwoord zegt....ik heb u niet verstaan. Herhaal u antwoord\n",
      "Sneller\n",
      "Snel contact en mogelijk sneller antwoord\n",
      "Voor sommige mensen kan het een lagere drempel zijn, dan een chatbot.\n",
      "Je hebt meer het idee dat je gehoord wordt.\n",
      "Snelheid van geholpen worden\n",
      "Snel reactie\n",
      "Veel leuker dan een chatbot. Meer interactie\n",
      "nan\n",
      "vriendelijke stem\n",
      "Snelheid en vriendelijk\n",
      "Je krijgt snel antwoord\n",
      "Persoonlijker\n",
      "Minder lang wachten op beschikbaarheid en minder lang wachten op antwoord\n",
      "Komt persoonlijker over\n",
      "Voor bijvoorbeeld mensen die het lastig vinden om te typen\n",
      "veel sneller geholpen en altijd beschikbaar\n",
      "veel sneller geholpen en altijd beschikbaar\n",
      "Dat ik niet lang hoef te wachten om geholpen te worden\n",
      "Voordelen zijn o.a dat het persoonlijker aanvoelt dan een chatbot waar je voor mijn gevoel altijd dezelfde reacties krijgt waar je totaal niets aan hebt omdat het niet gepersonaliseerd is. Het voelt dus vertrouwder en zorgt ervoor dat je een gezicht krijgt bij o.a. De klantenservice\n",
      "Je word sneller geholpen denk ik\n",
      "lekker snel en vlot\n",
      "Je wordt snel geholpen\n",
      "Snel reactie en 24 uur bereikbaar\n",
      "Komt sneller in contact dan telefonisch met het personeel. Sneller je vragen beantwoordt\n",
      "nan\n",
      "Snelheid\n",
      "Minder personeel\n",
      "Geen personeel\n",
      "ze is direct beschikbaar\n",
      "nan\n",
      "Voor een hele simpele vraag kan het zijn dat je sneller geholpen bent. Ik denk wel dat voor ingewikkeldere problemen beter 'echte' mensen ingezet kunnen worden\n",
      "Voor simpele vragen sneller antwoord\n",
      "Sneller hulp\n",
      "Het voelt wat meer persoonlijk aan in vergelijking met een invulformulier\n",
      "Dat je wellicht gelijk een oplossing krijgt\n",
      "nan\n",
      "Als er voldoende de vragen in de database zijn opgenomen dan kan er snel gereageerd worden\n",
      "nan\n",
      "Het contact is persoonlijker\n",
      "Altijd bereikbaar\n",
      "snel contact\n"
     ]
    }
   ],
   "source": [
    "for voordeel in results['Voordelen_DH']:\n",
    "    print(voordeel)"
   ]
  },
  {
   "cell_type": "markdown",
   "id": "a470ff55",
   "metadata": {},
   "source": [
    "Consumenten zijn van mening dat het grootste voordeel aan een digital human de snelheid is. Je hoeft niet lang te wachten voordat je geholpen wordt. Een ander groot voordeel van een digital human is dat het persoonlijk is. Je word benaderd met je naam en je kunt naar iemand kijken als je je vraag steld. Het derde voordeel is de beschikbaarheid. Een digital human is 24/7 beschikbaar. Je kunt je vraag stellen wanneer jou dat het beste uitkomt."
   ]
  },
  {
   "cell_type": "markdown",
   "id": "b84ef609",
   "metadata": {},
   "source": [
    "#### 6. Wat zijn volgens de consumenten de nadelen van een digital human?"
   ]
  },
  {
   "cell_type": "code",
   "execution_count": 13,
   "id": "dd8a3300",
   "metadata": {
    "collapsed": true
   },
   "outputs": [
    {
     "name": "stdout",
     "output_type": "stream",
     "text": [
      "Ze begrijpt niet alles\n",
      "Ik heb ja gedrukt omdat ik niet weet in hoeverre ze je helemaal kan helpen met je vraag of probleem en of ze die ook kan oplossen of dat je dan later toch nog weer teruggebeld moet worden. Want dan lost dit niets op\n",
      "Moeilijk om de diepte in te gaan\n",
      "Ben benieuwd of niet alleen standaard vragen op deze manier beantwoord kan worden, maar ook specifieke vragen\n",
      "Het blijft een chatbot, met complexere vragen or uitzonderingen of speciale omstandigheden zal je nog steeds een echt mens nodig hebben.\n",
      "Ik denk dat zij niet veel anders kan dan een digitale chat\n",
      "nan\n",
      "Hoop ze ze mij begrijpt\n",
      "Als de vraag te moeilijk is\n",
      "Ik weet niet of zij mij verder kan helpen\n",
      "Ik weet niet of ze mij begrijpt\n",
      "nan\n",
      "Complexe vraagstukken kunnen lastig zijn\n",
      "nan\n",
      "Als de digital human specifieke onderdelen niet herkent kan het gesprek vastlopen\n",
      "Kan niet alles oplossen\n",
      "nan\n",
      "nan\n",
      "nan\n",
      "nan\n",
      "Het moet goed en realistisch uitgevoerd worden. Wanneer de digital human te houterig of pixelig eruit ziet zou ik snel afhaken en komt het daarnaast onprofessioneel over. Je moet het goed doen en anders niet.\n",
      "nan\n",
      "nan\n",
      "nan\n",
      "ik weet niet of zij mij kan helpen bij ingewikkelde vragen\n",
      "nan\n",
      "Dat je nooit een goed antwoord krijgt dat past bij de gestelde vraag\n",
      "Geen antwoord als het geen standaard vraag is\n",
      "Persoonlijk\n",
      "Onpersoonlijk\n",
      "ze spreekt in losse woorden, het voelt nog erg \"robotachtig\"\n",
      "Hetzelfde als een chatbot\n",
      "Ze begrijpt alleen 'ja' of 'nee'\n",
      "Zal lastige vragen minder goed begrijpen\n",
      "Niet juist begrijpen van het probleem\n",
      "Digital human kan antwoorden verkeerd interpreteren. Denk ook aan sentiment in antwoorden.\n",
      "Dat ik niet wordt begrepen\n",
      "In feite is het een chatbot. Probleem met chatbots is dat ze alleen voorgeprogrammeerde antwoorden kennen (tot nu toe, toekomst misschien anders). En juist die antwoorden kan je altijd al op de website vinden\n",
      "als er te weinig FAQ's dan reageert de bot niet en krijg je antwoorden zoals nu, 'ik begrijp 't niet'\n",
      "nan\n",
      "nan\n",
      "Persoonlijk contact\n",
      "nan\n"
     ]
    }
   ],
   "source": [
    "for nadeel in results['Nadelen_DH']:\n",
    "    print(nadeel)"
   ]
  },
  {
   "cell_type": "markdown",
   "id": "fe6cbcfc",
   "metadata": {},
   "source": [
    "Consumenten denken dat het niet begrijpen van een probleem en het geven van een correct antwoord op een complexe vraag de grootste nadelen zijn van een digital human. "
   ]
  },
  {
   "cell_type": "markdown",
   "id": "c541293a",
   "metadata": {},
   "source": [
    "#### 7. Wat is de ervaring van een consument met een klantenservice?"
   ]
  },
  {
   "cell_type": "code",
   "execution_count": 20,
   "id": "f7cf246b",
   "metadata": {
    "scrolled": false
   },
   "outputs": [
    {
     "data": {
      "image/png": "[encoded data removed]",
      "text/plain": [
       "<Figure size 432x288 with 1 Axes>"
      ]
     },
     "metadata": {
      "needs_background": "light"
     },
     "output_type": "display_data"
    }
   ],
   "source": [
    "sns.histplot(data=results, x=\"Ervaring_Klantenservice\").set_title(\"Ervaring Klantenservice over alle leeftijdsgroepen\");"
   ]
  },
  {
   "cell_type": "markdown",
   "id": "17f328ed",
   "metadata": {},
   "source": [
    "33% van de respondenten zegt een neutral ervaring te hebben met de klantenservice. Dit zou kunnen betekenen dat zij de ene keer erg goed geholpen worden en het volgende moment wat minder.  1/5 van de respondenten zegt een negatieve ervaring te hebben met de klantenservice. 28% van de respondenten is positief over het contact met de klantenservice.  "
   ]
  },
  {
   "cell_type": "markdown",
   "id": "ac574d85",
   "metadata": {},
   "source": [
    "#### 8. Is er een verband tussen de wachttijd en de ervaring van consumenten met een klantenservice?"
   ]
  },
  {
   "cell_type": "code",
   "execution_count": 21,
   "id": "6d724f49",
   "metadata": {},
   "outputs": [
    {
     "data": {
      "image/png": "[encoded data removed]",
      "text/plain": [
       "<Figure size 432x288 with 1 Axes>"
      ]
     },
     "metadata": {
      "needs_background": "light"
     },
     "output_type": "display_data"
    }
   ],
   "source": [
    "new_df3 = results[['Ervaring_Klantenservice', 'Wachttijd']].dropna().groupby(\n",
    "    ['Ervaring_Klantenservice', 'Wachttijd']).size().reset_index()\n",
    "new_df3 = new_df3.rename(columns = {0: 'Aantal'})\n",
    "\n",
    "a = new_df3.groupby('Ervaring_Klantenservice').sum().reset_index()\n",
    "mapper = dict(zip(a['Ervaring_Klantenservice'],a['Aantal']))\n",
    "new_df3['totaal'] = new_df3['Ervaring_Klantenservice'].map(mapper)\n",
    "new_df3['percentage'] = new_df3['Aantal']/new_df3['totaal']\n",
    "\n",
    "labels = ['Tussen de 0-10 minuten','Tussen de 10-20 minuten',\n",
    "          '20 minuten of langer']\n",
    "sns.barplot(x='Ervaring_Klantenservice', y='percentage', \n",
    "            hue='Wachttijd', data=new_df3, \n",
    "            palette=\"Blues_d\", hue_order=labels\n",
    "           ).set_title('Wachttijd VS ervaring klantenservice');"
   ]
  },
  {
   "cell_type": "markdown",
   "id": "e9d674bf",
   "metadata": {},
   "source": [
    "Ja, hoe langer consumenten moeten wachten voordat ze geholpen worden, hoe negatiever de klantenservice ervaring van een consument is. Consumenten hechten erg veel waarde aan snel te woord worden gestaan. "
   ]
  },
  {
   "cell_type": "markdown",
   "id": "61d99994",
   "metadata": {},
   "source": [
    "#### 9. Is er een verschil te zien tussen leeftijdsgroepen als er gekeken wordt naar het soort contact dat ze opnemen met de klantenservice?"
   ]
  },
  {
   "cell_type": "code",
   "execution_count": 14,
   "id": "6f5e25ff",
   "metadata": {},
   "outputs": [
    {
     "data": {
      "image/png": "[encoded data removed]",
      "text/plain": [
       "<Figure size 432x288 with 1 Axes>"
      ]
     },
     "metadata": {
      "needs_background": "light"
     },
     "output_type": "display_data"
    }
   ],
   "source": [
    "new_df2 = results.groupby(['age_range', 'Contact_Klantenservice']).size().reset_index()\n",
    "new_df2 = new_df2.rename(columns = {0: 'Aantal'})\n",
    "sns.barplot(x='age_range', y='Aantal', hue='Contact_Klantenservice', data=new_df2, palette=\"Blues_d\").set_title('Contact klantenservice per leeftijdsgroep')\n",
    "plt.legend(title='Contact klantenservice', loc='upper right');"
   ]
  },
  {
   "cell_type": "markdown",
   "id": "d4851d66",
   "metadata": {},
   "source": [
    "Respondenten uit de leeftijdsgroep 18-29 jaar neemt op dit moment via alle soorten manieren contact opneemt met de klantenservice. Via whatsapp, chatbot, email, telefoon en webformulier. De meest gebruikte manier van contact opnemen is voor deze leeftijdsgroep via een chatbot. Een digital human is een uitbreiding van een chatbot waardoor er een erg grote kans is dat deze generatie zonder problemen gebruik zal gaan maken van de digital human. Respondenten uit de leeftijdsgroep 60+ nemen vooral contact via de telefoon. Voor hen  is het belangrijk dat zij ten alle tijden via telefoon contact kunnen opnemen met een klantenservice. Verwacht wordt dat zij nog wat terughoudend zijn in het gebruik van een digital human.  "
   ]
  },
  {
   "cell_type": "markdown",
   "id": "210e653e",
   "metadata": {},
   "source": [
    "#### 10. Is er een verschil te zien tussen leeftijdsgroepen als er gekeken wordt naar of zij liever contact opnemen met een digital human of een klantenservice medewerker? "
   ]
  },
  {
   "cell_type": "code",
   "execution_count": 25,
   "id": "6905b9c7",
   "metadata": {
    "scrolled": true
   },
   "outputs": [
    {
     "data": {
      "image/png": "[encoded data removed]",
      "text/plain": [
       "<Figure size 432x288 with 1 Axes>"
      ]
     },
     "metadata": {
      "needs_background": "light"
     },
     "output_type": "display_data"
    }
   ],
   "source": [
    "new_df2 = results.groupby(['age_range', 'DH_VS_Mens']).size().reset_index()\n",
    "new_df2 = new_df2.rename(columns = {0: 'Aantal'})\n",
    "\n",
    "sns.barplot(x='age_range', y='Aantal', hue='DH_VS_Mens', data=new_df2, palette=\"Blues_d\").set_title('Digital Human VS Mens per leeftijdsgroep')\n",
    "plt.legend(title='DH_VS_Mens', loc='upper right');"
   ]
  },
  {
   "cell_type": "markdown",
   "id": "ca3c5ec5",
   "metadata": {},
   "source": [
    "46% van de respondenten uit leeftijdsgroep 18-29 jaar nemen liever contact op met een digital human dan met een mens. 50% van de respondenten die behoren tot leeftijdsgroep 60+ zijn neutraal. Het maakt hun niet uit of ze met een digital human of een mens spreken. De 70 plussers zijn er wel vel op tegen. 2/3 van de respondenten zegt liever een mens te spreken dan een digital human. "
   ]
  },
  {
   "cell_type": "markdown",
   "id": "cae96ce0",
   "metadata": {},
   "source": [
    "#### 11. Is er een verband te zien tussen de mening van consumenten over het gesprek met de digital human en of zij in de toekomst liever met een digital human of met een klantenservice medewerker willen praten?"
   ]
  },
  {
   "cell_type": "code",
   "execution_count": 22,
   "id": "6700d5d2",
   "metadata": {
    "scrolled": true
   },
   "outputs": [
    {
     "data": {
      "image/png": "[encoded data removed]",
      "text/plain": [
       "<Figure size 432x288 with 1 Axes>"
      ]
     },
     "metadata": {
      "needs_background": "light"
     },
     "output_type": "display_data"
    }
   ],
   "source": [
    "new_df4 = pd.DataFrame(columns=['Mening_DH', 'DH_VS_Mens'])\n",
    "new_df4['Mening_DH'] = Mening_DH_List\n",
    "new_df4['DH_VS_Mens'] = results['DH_VS_Mens']\n",
    "\n",
    "new_df4 = new_df4.groupby(['Mening_DH', 'DH_VS_Mens']).size().reset_index()\n",
    "new_df4 = new_df4.rename(columns = {0: 'Aantal'})\n",
    "\n",
    "sns.barplot(x='Mening_DH', y='Aantal', \n",
    "            hue='DH_VS_Mens', data=new_df4, \n",
    "            palette=\"Blues_d\").set_title('Mening DH Emily VS DH vs Mens');"
   ]
  },
  {
   "cell_type": "markdown",
   "id": "20dbf5f7",
   "metadata": {},
   "source": [
    "Ja, hoe leuker mensen het gesprek vonden met de digital human, hoe liever zij met een digital human spreken in plaats van een klantenservice medewerker. "
   ]
  },
  {
   "cell_type": "markdown",
   "id": "731be8fa",
   "metadata": {},
   "source": [
    "#### 12. Stellen consumenten complexe vragen liever aan een 'echt' mens?"
   ]
  },
  {
   "cell_type": "code",
   "execution_count": 23,
   "id": "1ad4ef3a",
   "metadata": {
    "scrolled": true
   },
   "outputs": [
    {
     "data": {
      "image/png": "[encoded data removed]",
      "text/plain": [
       "<Figure size 432x288 with 1 Axes>"
      ]
     },
     "metadata": {
      "needs_background": "light"
     },
     "output_type": "display_data"
    }
   ],
   "source": [
    "sns.histplot(data=results, x=\"Complexe_Vragen\").set_title(\"Stellen consumenten complexe vragen liever aan een klantenservice medewerker\")\n",
    "plt.xticks(rotation=45);"
   ]
  },
  {
   "cell_type": "markdown",
   "id": "cea8bab2",
   "metadata": {},
   "source": [
    "70% van alle respondenten zegt complexe/moeilijke vragen liever aan een ‘echt’ mens te stellen. Zij hebben er dan meer vertrouwen in dat de vraag daadwerkelijk beantwoord wordt. 26% van de respondenten zegt het niks uit te maken of zij hun complexe vragen aan een digital human of aan een echt mens moeten stellen. "
   ]
  }
 ],
 "metadata": {
  "kernelspec": {
   "display_name": "Python 3 (ipykernel)",
   "language": "python",
   "name": "python3"
  },
  "language_info": {
   "codemirror_mode": {
    "name": "ipython",
    "version": 3
   },
   "file_extension": ".py",
   "mimetype": "text/x-python",
   "name": "python",
   "nbconvert_exporter": "python",
   "pygments_lexer": "ipython3",
   "version": "3.9.7"
  }
 },
 "nbformat": 4,
 "nbformat_minor": 5
}
