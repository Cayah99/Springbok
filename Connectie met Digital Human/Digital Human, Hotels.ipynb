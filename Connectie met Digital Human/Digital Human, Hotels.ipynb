{
 "cells": [
  {
   "cell_type": "markdown",
   "id": "ca328c67",
   "metadata": {
    "scrolled": true
   },
   "source": [
    "### Connectie met Digital Human"
   ]
  },
  {
   "cell_type": "markdown",
   "id": "0287bce3",
   "metadata": {},
   "source": [
    "by Kyra Jongman"
   ]
  },
  {
   "cell_type": "markdown",
   "id": "17706135",
   "metadata": {},
   "source": [
    "### Inhoudsopgave"
   ]
  },
  {
   "cell_type": "markdown",
   "id": "63d6376d",
   "metadata": {},
   "source": [
    "- Importeren packages\n",
    "- Code voor het voeren van een gesprek"
   ]
  },
  {
   "cell_type": "markdown",
   "id": "be6c7310",
   "metadata": {},
   "source": [
    "### Importeren packages"
   ]
  },
  {
   "cell_type": "code",
   "execution_count": null,
   "id": "d1c4cf42",
   "metadata": {},
   "outputs": [],
   "source": [
    "import numpy as np\n",
    "from flask import Flask, request, make_response\n",
    "import json\n",
    "import pickle\n",
    "from flask_cors import cross_origin\n",
    "from simplet5 import SimpleT5\n",
    "from datetime import datetime, timedelta\n",
    "import time"
   ]
  },
  {
   "cell_type": "markdown",
   "id": "67e7482b",
   "metadata": {},
   "source": [
    "### Code voor het voeren van een gesprek"
   ]
  },
  {
   "cell_type": "markdown",
   "id": "eeb92b50",
   "metadata": {},
   "source": [
    "Met behulp van de onderstaande code wordt  via Ngrok een connectie met DialogFlow gemaakt. Deze code moet gerund worden wanneer een gesprek met de digital human aangegaan wordt. "
   ]
  },
  {
   "cell_type": "code",
   "execution_count": 15,
   "id": "71bce970",
   "metadata": {
    "scrolled": true
   },
   "outputs": [
    {
     "name": "stdout",
     "output_type": "stream",
     "text": [
      " * Serving Flask app \"__main__\" (lazy loading)\n",
      " * Environment: production\n",
      "\u001b[31m   WARNING: This is a development server. Do not use it in a production deployment.\u001b[0m\n",
      "\u001b[2m   Use a production WSGI server instead.\u001b[0m\n",
      " * Debug mode: off\n"
     ]
    },
    {
     "name": "stderr",
     "output_type": "stream",
     "text": [
      " * Running on http://127.0.0.1:5000/ (Press CTRL+C to quit)\n",
      "127.0.0.1 - - [28/May/2022 16:48:23] \"POST /webhook HTTP/1.1\" 200 -\n",
      "127.0.0.1 - - [28/May/2022 16:48:28] \"POST /webhook HTTP/1.1\" 200 -\n",
      "127.0.0.1 - - [28/May/2022 16:48:36] \"POST /webhook HTTP/1.1\" 200 -\n",
      "127.0.0.1 - - [28/May/2022 16:48:42] \"POST /webhook HTTP/1.1\" 200 -\n",
      "127.0.0.1 - - [28/May/2022 16:48:49] \"POST /webhook HTTP/1.1\" 200 -\n",
      "127.0.0.1 - - [28/May/2022 16:48:59] \"POST /webhook HTTP/1.1\" 200 -\n",
      "127.0.0.1 - - [28/May/2022 16:49:05] \"POST /webhook HTTP/1.1\" 200 -\n",
      "127.0.0.1 - - [28/May/2022 16:49:09] \"POST /webhook HTTP/1.1\" 200 -\n",
      "127.0.0.1 - - [28/May/2022 16:49:15] \"POST /webhook HTTP/1.1\" 200 -\n",
      "127.0.0.1 - - [28/May/2022 16:49:19] \"POST /webhook HTTP/1.1\" 200 -\n"
     ]
    }
   ],
   "source": [
    "app = Flask(__name__)\n",
    "\n",
    "model = pickle.load(open('t5model.pkl', 'rb'))\n",
    "\n",
    "@app.route('/webhook', methods=['POST'])\n",
    "def webhook():\n",
    "    req = request.get_json(silent=True, force=True)\n",
    "    res = processRequest(req)\n",
    "    res = json.dumps(res, indent=4)\n",
    "    \n",
    "    r = make_response(res)\n",
    "    r.headers['Content-Type'] = 'application/json'\n",
    "    return r\n",
    "\n",
    "class Conversation:\n",
    "\n",
    "    def __init__(self):\n",
    "        self.context = '<C>'\n",
    "        self.annotation_list = []\n",
    "\n",
    "    def user_sentence(self, user_sentence):\n",
    "        user_sentence = \"<U>\" + user_sentence\n",
    "        if 'Okay' in user_sentence or 'Great' in user_sentence:\n",
    "            a = []\n",
    "            for i in self.annotation_list:\n",
    "                #attribute names\n",
    "                try:\n",
    "                    a.append(i.split(\"PAV>\")[0].split(\".\")[1] + \" \" + i.split(\"PAV>\")[0].split(\".\")[2] + \" is\")\n",
    "                except:\n",
    "                    try: \n",
    "                        a.append(i.split(\"PAV>\")[0].split(\".\")[1].split(\"_\")[0] + \" \" + i.split(\"PAV>\")[0].split(\".\")[1].split(\"_\")[1] + \" is\")\n",
    "                    except:\n",
    "                        a.append(i.split(\"PAV>\")[0].split(\".\")[1] + \" is\")\n",
    "                #attribute values\n",
    "                a.append(i.split(\"PAV>\")[1])\n",
    "            a.insert(0, \"Finding a suitable hotel for the customer with the help of the following attributes:\")\n",
    "            test = ' '.join(a) \n",
    "            return test\n",
    "        else:\n",
    "            answer = model.predict(user_sentence + self.context)[0]\n",
    "            if 'PAN>' in answer:\n",
    "                if 'A>' not in answer:\n",
    "                    answer += \" A>\" + answer.split(\"PAV>\")[1] +'?'\n",
    "                    self.annotation_list.extend([answer.split(\" A>\")[0]])\n",
    "                else:\n",
    "                    self.annotation_list.extend([answer.split(\" A>\")[0]])\n",
    "            new_context = user_sentence + \" \" + \"<\" + answer\n",
    "            self.context = self.context + \" \" + new_context\n",
    "            return answer.split(\"A>\")[1]\n",
    "\n",
    "conv = Conversation()    \n",
    "def processRequest(req):  \n",
    "    text = req.get(\"queryText\")\n",
    "    result = req.get(\"queryResult\")\n",
    "    parameters = result.get(\"parameters\")\n",
    "    user_question = parameters.get(\"userInput\")\n",
    "    \n",
    "    intent = result.get(\"intent\").get('displayName')\n",
    "    if (intent=='Default Welcome Intent'):\n",
    "        prediction = conv.user_sentence(user_question)     \n",
    "        fulfillmentText = prediction \n",
    "        return {\"fulfillmentText\": fulfillmentText}\n",
    "    elif (intent=='prediction'):\n",
    "        prediction = conv.user_sentence(user_question)      \n",
    "        fulfillmentText = prediction \n",
    "        return {\"fulfillmentText\": fulfillmentText}\n",
    "\n",
    "if __name__ == '__main__':\n",
    "    app.run()"
   ]
  }
 ],
 "metadata": {
  "kernelspec": {
   "display_name": "Python 3 (ipykernel)",
   "language": "python",
   "name": "python3"
  },
  "language_info": {
   "codemirror_mode": {
    "name": "ipython",
    "version": 3
   },
   "file_extension": ".py",
   "mimetype": "text/x-python",
   "name": "python",
   "nbconvert_exporter": "python",
   "pygments_lexer": "ipython3",
   "version": "3.9.7"
  }
 },
 "nbformat": 4,
 "nbformat_minor": 5
}
