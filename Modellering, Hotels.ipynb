{
 "cells": [
  {
   "cell_type": "markdown",
   "id": "d6b7417b",
   "metadata": {},
   "source": [
    "### Modeling"
   ]
  },
  {
   "cell_type": "markdown",
   "id": "f37d11e9",
   "metadata": {},
   "source": [
    "By Kyra Jongman"
   ]
  },
  {
   "cell_type": "markdown",
   "id": "df50c317",
   "metadata": {},
   "source": [
    "### Inhoudsopgave"
   ]
  },
  {
   "cell_type": "markdown",
   "id": "90014a61",
   "metadata": {},
   "source": [
    "- Importeren packages\n",
    "- Importeren data\n",
    "- Modellering\n",
    "- Voorbeeld tokenizer\n",
    "- Evaluatie\n",
    "    1. Evalueren aantal epochs\n",
    "    2. Evalueren van het T5 model\n",
    "        - 2.1 Data verdelen in vier verschillende soorten output\n",
    "        - 2.2 Antwoorden van medewerker ('A') splitsen van lijst met 'PAN' en 'PAV' indicatoren \n",
    "        - 2.3 Berekenen van de similarity scores\n",
    "        - 2.4 Berekenen van gemiddelde similarity scores per output\n",
    "- Gesprek testen"
   ]
  },
  {
   "cell_type": "markdown",
   "id": "07cb4335",
   "metadata": {},
   "source": [
    "### Importeren packages"
   ]
  },
  {
   "cell_type": "code",
   "execution_count": 1,
   "id": "4b98e47f",
   "metadata": {},
   "outputs": [
    {
     "name": "stderr",
     "output_type": "stream",
     "text": [
      "Global seed set to 42\n"
     ]
    }
   ],
   "source": [
    "import pickle\n",
    "from simplet5 import SimpleT5\n",
    "from sklearn.utils import shuffle\n",
    "from sklearn.model_selection import train_test_split\n",
    "from nltk.translate.bleu_score import sentence_bleu\n",
    "from sentence_transformers import SentenceTransformer\n",
    "from scipy.spatial import distance\n",
    "import pandas as pd\n",
    "import torch, gc\n",
    "import seaborn as sns\n",
    "import collections"
   ]
  },
  {
   "cell_type": "markdown",
   "id": "fd74727f",
   "metadata": {},
   "source": [
    "### Importeren data"
   ]
  },
  {
   "cell_type": "code",
   "execution_count": 2,
   "id": "77c9975a",
   "metadata": {},
   "outputs": [],
   "source": [
    "with open(\"data.pickle\", \"rb\") as input_file:\n",
    "    data = pickle.load(input_file)"
   ]
  },
  {
   "cell_type": "code",
   "execution_count": 3,
   "id": "9eb664d7",
   "metadata": {},
   "outputs": [
    {
     "name": "stdout",
     "output_type": "stream",
     "text": [
      "(24889, 2) (6223, 2)\n"
     ]
    }
   ],
   "source": [
    "train_df, eval_df = train_test_split(data, test_size=0.2,random_state=23)\n",
    "print(train_df.shape, eval_df.shape)"
   ]
  },
  {
   "cell_type": "markdown",
   "id": "30695509",
   "metadata": {},
   "source": [
    "### Modellering"
   ]
  },
  {
   "cell_type": "markdown",
   "id": "fa8f9d03",
   "metadata": {},
   "source": [
    "De onderstaande code is met behulp van Google Colab Pro gerund. Python gaf namelijk een memory error."
   ]
  },
  {
   "cell_type": "code",
   "execution_count": 4,
   "id": "636c100d",
   "metadata": {},
   "outputs": [],
   "source": [
    "# model = SimpleT5()\n",
    "# model.from_pretrained(model_type=\"t5\", model_name=\"t5-base\")\n",
    "\n",
    "# gc.collect()\n",
    "# torch.cuda.empty_cache()\n",
    "\n",
    "# model.train(train_df=train_df,\n",
    "#             eval_df=eval_df, \n",
    "#             source_max_token_len=1024, \n",
    "#             target_max_token_len=256, \n",
    "#             batch_size=2, max_epochs=4)"
   ]
  },
  {
   "cell_type": "markdown",
   "id": "cb838295",
   "metadata": {},
   "source": [
    "### Voorbeeld tokenizer"
   ]
  },
  {
   "cell_type": "markdown",
   "id": "120eb6b0",
   "metadata": {},
   "source": [
    "De onderstaande code is gerund om na te gaan hoe de T5 tokenziner werkt. Gezien kan worden dat ieder woord gekoppeld wordt aan een getal. Deze getallen worden opgeslagen in een lijst die vervolgens verwerkt kan worden door het T5 model. "
   ]
  },
  {
   "cell_type": "code",
   "execution_count": 13,
   "id": "d91415d4",
   "metadata": {},
   "outputs": [
    {
     "data": {
      "text/plain": [
       "[8774, 6, 149, 54, 27, 199, 25, 58, 1]"
      ]
     },
     "execution_count": 13,
     "metadata": {},
     "output_type": "execute_result"
    }
   ],
   "source": [
    "from transformers import T5TokenizerFast as T5Tokenizer\n",
    "tokenizer = T5Tokenizer.from_pretrained(\"t5-base\")\n",
    "tokenizer('Hello, how can I help you?')['input_ids']"
   ]
  },
  {
   "cell_type": "markdown",
   "id": "b05f3286",
   "metadata": {},
   "source": [
    "### Evaluatie"
   ]
  },
  {
   "cell_type": "markdown",
   "id": "85dac9ed",
   "metadata": {},
   "source": [
    "#### 1. Evalueren aantal epochs"
   ]
  },
  {
   "cell_type": "markdown",
   "id": "6255cbaf",
   "metadata": {},
   "source": [
    "Om na te gaan of het model niet te veel traint en daardoor slechter gaat presenteren, zijn de training loss en de evaluatie loss tegenover elkaar geplot in een lijndiagram. Gezien kan worden dat zowel de training loss als de evaluatie loss dalen. De evaluatie loss daalt echter minder snel dan te training loss. Dit betekent dat het model na epoch 4 niet meer zoveel verbeterd en het aantal epochs dus niet verhoogd moet worden. "
   ]
  },
  {
   "cell_type": "code",
   "execution_count": 4,
   "id": "9e5d30f5",
   "metadata": {},
   "outputs": [],
   "source": [
    "#De training en evaluatie loss van de verschillende epochs\n",
    "epochs = [\"simplet5-epoch-0-train-loss-0.7651-val-loss-0.6165\", \n",
    "\"simplet5-epoch-1-train-loss-0.5994-val-loss-0.5789\", \n",
    "\"simplet5-epoch-2-train-loss-0.5289-val-loss-0.5577\",\n",
    "\"simplet5-epoch-3-train-loss-0.477-val-loss-0.5494\",\n",
    "\"simplet5-epoch-4-train-loss-0.4324-val-loss-0.5469\"]"
   ]
  },
  {
   "cell_type": "code",
   "execution_count": 5,
   "id": "0ae73d6c",
   "metadata": {},
   "outputs": [
    {
     "data": {
      "text/html": [
       "<div>\n",
       "<style scoped>\n",
       "    .dataframe tbody tr th:only-of-type {\n",
       "        vertical-align: middle;\n",
       "    }\n",
       "\n",
       "    .dataframe tbody tr th {\n",
       "        vertical-align: top;\n",
       "    }\n",
       "\n",
       "    .dataframe thead th {\n",
       "        text-align: right;\n",
       "    }\n",
       "</style>\n",
       "<table border=\"1\" class=\"dataframe\">\n",
       "  <thead>\n",
       "    <tr style=\"text-align: right;\">\n",
       "      <th></th>\n",
       "      <th>epoch_name</th>\n",
       "      <th>cols</th>\n",
       "      <th>vals</th>\n",
       "    </tr>\n",
       "  </thead>\n",
       "  <tbody>\n",
       "    <tr>\n",
       "      <th>0</th>\n",
       "      <td>0</td>\n",
       "      <td>epoch_train_loss</td>\n",
       "      <td>0.7651</td>\n",
       "    </tr>\n",
       "    <tr>\n",
       "      <th>1</th>\n",
       "      <td>1</td>\n",
       "      <td>epoch_train_loss</td>\n",
       "      <td>0.5994</td>\n",
       "    </tr>\n",
       "    <tr>\n",
       "      <th>2</th>\n",
       "      <td>2</td>\n",
       "      <td>epoch_train_loss</td>\n",
       "      <td>0.5289</td>\n",
       "    </tr>\n",
       "    <tr>\n",
       "      <th>3</th>\n",
       "      <td>3</td>\n",
       "      <td>epoch_train_loss</td>\n",
       "      <td>0.4770</td>\n",
       "    </tr>\n",
       "    <tr>\n",
       "      <th>4</th>\n",
       "      <td>4</td>\n",
       "      <td>epoch_train_loss</td>\n",
       "      <td>0.4324</td>\n",
       "    </tr>\n",
       "    <tr>\n",
       "      <th>5</th>\n",
       "      <td>0</td>\n",
       "      <td>epoch_val_loss</td>\n",
       "      <td>0.6165</td>\n",
       "    </tr>\n",
       "    <tr>\n",
       "      <th>6</th>\n",
       "      <td>1</td>\n",
       "      <td>epoch_val_loss</td>\n",
       "      <td>0.5789</td>\n",
       "    </tr>\n",
       "    <tr>\n",
       "      <th>7</th>\n",
       "      <td>2</td>\n",
       "      <td>epoch_val_loss</td>\n",
       "      <td>0.5577</td>\n",
       "    </tr>\n",
       "    <tr>\n",
       "      <th>8</th>\n",
       "      <td>3</td>\n",
       "      <td>epoch_val_loss</td>\n",
       "      <td>0.5494</td>\n",
       "    </tr>\n",
       "    <tr>\n",
       "      <th>9</th>\n",
       "      <td>4</td>\n",
       "      <td>epoch_val_loss</td>\n",
       "      <td>0.5469</td>\n",
       "    </tr>\n",
       "  </tbody>\n",
       "</table>\n",
       "</div>"
      ],
      "text/plain": [
       "  epoch_name              cols    vals\n",
       "0          0  epoch_train_loss  0.7651\n",
       "1          1  epoch_train_loss  0.5994\n",
       "2          2  epoch_train_loss  0.5289\n",
       "3          3  epoch_train_loss  0.4770\n",
       "4          4  epoch_train_loss  0.4324\n",
       "5          0    epoch_val_loss  0.6165\n",
       "6          1    epoch_val_loss  0.5789\n",
       "7          2    epoch_val_loss  0.5577\n",
       "8          3    epoch_val_loss  0.5494\n",
       "9          4    epoch_val_loss  0.5469"
      ]
     },
     "execution_count": 5,
     "metadata": {},
     "output_type": "execute_result"
    }
   ],
   "source": [
    "#De training en evaluatie loss transformeren naar een dataset\n",
    "epoch_list = {'epoch_name' : [], 'epoch_train_loss' : [], 'epoch_val_loss' : []}\n",
    "for epoch in epochs:\n",
    "    epoch_list['epoch_name'].append(' '. join(epoch.split(\"-\")[2:3]))\n",
    "    epoch_list['epoch_train_loss'].append(float(' '. join(epoch.split(\"-\")[5:6])))\n",
    "    epoch_list['epoch_val_loss'].append(float(' '. join(epoch.split(\"-\")[8:9])))\n",
    "epoch_df = pd.DataFrame(epoch_list)\n",
    "\n",
    "epoch_df_melt = epoch_df.melt('epoch_name', var_name='cols', value_name='vals')\n",
    "epoch_df_melt"
   ]
  },
  {
   "cell_type": "code",
   "execution_count": 6,
   "id": "5477f733",
   "metadata": {},
   "outputs": [
    {
     "data": {
      "image/png": "[encoded data removed]",
      "text/plain": [
       "<Figure size 432x288 with 1 Axes>"
      ]
     },
     "metadata": {
      "needs_background": "light"
     },
     "output_type": "display_data"
    }
   ],
   "source": [
    "#Dataframe plotten in een lijndiagram\n",
    "sns.lineplot(\n",
    "    data=epoch_df_melt,\n",
    "    x=\"epoch_name\", y=\"vals\", hue=\"cols\", style=\"cols\",\n",
    "    markers=True, dashes=False\n",
    ");"
   ]
  },
  {
   "cell_type": "markdown",
   "id": "371f1904",
   "metadata": {},
   "source": [
    "#### 2. Evalueren van het T5 model met het DistillBert model"
   ]
  },
  {
   "cell_type": "markdown",
   "id": "e465a502",
   "metadata": {},
   "source": [
    "Daarnaast is ook de ouput, voorspelde antwoord, van het T5 model geëvalueerd. Dit is gedaan door middel van het DistillBert model. Dit model berekend de gelijkenis tussen twee zinnen. Komt het 'echte' antwoord overheen met het voorspelde antwoord. "
   ]
  },
  {
   "cell_type": "code",
   "execution_count": 10,
   "id": "c2f52e10",
   "metadata": {
    "scrolled": true
   },
   "outputs": [],
   "source": [
    "#Het beste getrainde model importeren van Google Colab Pro\n",
    "model = SimpleT5()\n",
    "model.from_pretrained(model_type=\"t5\", model_name=\"t5-base\")\n",
    "model.load_model(\"t5\", 'outputs (datum 17-05)\\content\\outputs\\simplet5-epoch-4-train-loss-0.4324-val-loss-0.5469')"
   ]
  },
  {
   "cell_type": "code",
   "execution_count": 47,
   "id": "9ab4014d",
   "metadata": {},
   "outputs": [],
   "source": [
    "#Antwoorden voorspellen op basis van de source text uit de evaluatie dataset\n",
    "#total_prediction = [model.predict(row) for row in eval_df['source_text']]"
   ]
  },
  {
   "cell_type": "code",
   "execution_count": 14,
   "id": "b4a350f7",
   "metadata": {},
   "outputs": [],
   "source": [
    "#De voorspelde antwoorden opslaan in een pickle\n",
    "# with open('total_prediction.pickle', 'wb') as handle:\n",
    "#     pickle.dump(total_prediction, handle)\n",
    "\n",
    "#Voorspelde antwoorden openen\n",
    "with open('total_prediction.pickle', 'rb') as handle:\n",
    "    total_prediction = pickle.load(handle)"
   ]
  },
  {
   "cell_type": "code",
   "execution_count": 15,
   "id": "efd53ff9",
   "metadata": {},
   "outputs": [
    {
     "data": {
      "text/html": [
       "<div>\n",
       "<style scoped>\n",
       "    .dataframe tbody tr th:only-of-type {\n",
       "        vertical-align: middle;\n",
       "    }\n",
       "\n",
       "    .dataframe tbody tr th {\n",
       "        vertical-align: top;\n",
       "    }\n",
       "\n",
       "    .dataframe thead th {\n",
       "        text-align: right;\n",
       "    }\n",
       "</style>\n",
       "<table border=\"1\" class=\"dataframe\">\n",
       "  <thead>\n",
       "    <tr style=\"text-align: right;\">\n",
       "      <th></th>\n",
       "      <th>source_text</th>\n",
       "      <th>target_text</th>\n",
       "      <th>predicted_target_text</th>\n",
       "    </tr>\n",
       "  </thead>\n",
       "  <tbody>\n",
       "    <tr>\n",
       "      <th>11317</th>\n",
       "      <td>question-answer: &lt;U&gt;probably you know, a four ...</td>\n",
       "      <td>&lt;PAN&gt;hotel_search.star_rating&lt;PAV&gt;a four star ...</td>\n",
       "      <td>PAN&gt;hotel_search.star_ratingPAV&gt;four star A&gt;do...</td>\n",
       "    </tr>\n",
       "    <tr>\n",
       "      <th>12465</th>\n",
       "      <td>question-answer: &lt;U&gt;that sounds great. &lt;PRAN&gt;h...</td>\n",
       "      <td>&lt;A&gt;you have any questions about willows?</td>\n",
       "      <td>A&gt;would you like to book your stay with the wi...</td>\n",
       "    </tr>\n",
       "    <tr>\n",
       "      <th>28291</th>\n",
       "      <td>question-answer: &lt;U&gt;i'm looking for a hotel ha...</td>\n",
       "      <td>&lt;PAN&gt;hotel_search. num.beds&lt;PAV&gt;two &lt;A&gt;okay, y...</td>\n",
       "      <td>PAN&gt;hotel_search. num.bedsPAV&gt;two beds</td>\n",
       "    </tr>\n",
       "    <tr>\n",
       "      <th>17252</th>\n",
       "      <td>question-answer: &lt;U&gt;oh yeah, it's got to have ...</td>\n",
       "      <td>&lt;PAN&gt;hotel_search. num.beds&lt;PAV&gt;two &lt;A&gt;what is...</td>\n",
       "      <td>PAN&gt;hotel_search. num.bedsPAV&gt;two beds</td>\n",
       "    </tr>\n",
       "    <tr>\n",
       "      <th>570</th>\n",
       "      <td>question-answer: &lt;U&gt;that's all my requirements...</td>\n",
       "      <td>&lt;A&gt;let me see what i can find. &lt;A&gt;hold on. &lt;A&gt;...</td>\n",
       "      <td>A&gt;okay, let me see what hotels i can find for ...</td>\n",
       "    </tr>\n",
       "  </tbody>\n",
       "</table>\n",
       "</div>"
      ],
      "text/plain": [
       "                                             source_text  \\\n",
       "11317  question-answer: <U>probably you know, a four ...   \n",
       "12465  question-answer: <U>that sounds great. <PRAN>h...   \n",
       "28291  question-answer: <U>i'm looking for a hotel ha...   \n",
       "17252  question-answer: <U>oh yeah, it's got to have ...   \n",
       "570    question-answer: <U>that's all my requirements...   \n",
       "\n",
       "                                             target_text  \\\n",
       "11317  <PAN>hotel_search.star_rating<PAV>a four star ...   \n",
       "12465           <A>you have any questions about willows?   \n",
       "28291  <PAN>hotel_search. num.beds<PAV>two <A>okay, y...   \n",
       "17252  <PAN>hotel_search. num.beds<PAV>two <A>what is...   \n",
       "570    <A>let me see what i can find. <A>hold on. <A>...   \n",
       "\n",
       "                                   predicted_target_text  \n",
       "11317  PAN>hotel_search.star_ratingPAV>four star A>do...  \n",
       "12465  A>would you like to book your stay with the wi...  \n",
       "28291             PAN>hotel_search. num.bedsPAV>two beds  \n",
       "17252             PAN>hotel_search. num.bedsPAV>two beds  \n",
       "570    A>okay, let me see what hotels i can find for ...  "
      ]
     },
     "execution_count": 15,
     "metadata": {},
     "output_type": "execute_result"
    }
   ],
   "source": [
    "#Extra kolom toevoegen aan de evaluatie dataset met de voorspelde antwoorden\n",
    "prediction_df = eval_df.copy()\n",
    "prediction_df['predicted_target_text'] = [\" \".join(items) for items in total_prediction] \n",
    "prediction_df.head(5)"
   ]
  },
  {
   "cell_type": "markdown",
   "id": "cc88c74f",
   "metadata": {},
   "source": [
    "##### 2.1 Data verdelen in vier verschillende soorten output"
   ]
  },
  {
   "cell_type": "markdown",
   "id": "1365cb92",
   "metadata": {},
   "source": [
    "- Een 'gewoon' antwoord gebaseerd op de gesprekscontext\n",
    "- Een 'gewoon' antwoord in combinatie met een indicator\n",
    "- Een indicator als antwoord\n",
    "- Een antwoord gebaseerd op resultaten van een indicator"
   ]
  },
  {
   "cell_type": "code",
   "execution_count": 7,
   "id": "00452b02",
   "metadata": {},
   "outputs": [],
   "source": [
    "#Lijst met antwoorden gebaseerd op de resultaten van een indicator\n",
    "PR_rows = []\n",
    "#Lijst waar de indicators nog gesplitst moeten worden van de 'gewone' antwoorden, zie 2.2\n",
    "PAN_A_rows = []\n",
    "#Lijst met indicators als antwoord\n",
    "PAN_rows = []\n",
    "#Lijst met 'gewone' antwoorden gebaseerd op de gesprekscontext\n",
    "A_rows = []\n",
    "\n",
    "for index, row in prediction_df.iterrows():\n",
    "    if '<PR>' in row['source_text']:\n",
    "        PR_rows.append(index)\n",
    "    elif '<PAN>' in row['target_text']:  \n",
    "        if '<A>' in row['target_text']:\n",
    "            PAN_A_rows.append(index)\n",
    "        else:\n",
    "            PAN_rows.append(index)\n",
    "    else:\n",
    "        A_rows.append(index)"
   ]
  },
  {
   "cell_type": "markdown",
   "id": "1438a9be",
   "metadata": {},
   "source": [
    "##### 2.2 Antwoorden van medewerker ('A') splitsen van lijst met 'PAN' en 'PAV' indicatoren"
   ]
  },
  {
   "cell_type": "code",
   "execution_count": 8,
   "id": "74ed10a1",
   "metadata": {
    "scrolled": true
   },
   "outputs": [],
   "source": [
    "#Lijst waar de indicators nog gesplitst moeten worden van de 'gewone' antwoorden\n",
    "def split_target(text: str) -> tuple:\n",
    "    splitted_targets = []\n",
    "    delimiters = []\n",
    "    for char, index in zip(text, range(len(text))):\n",
    "        if char == '>':\n",
    "            delimiters.append(index)\n",
    "    delimiters.append(None)\n",
    "    \n",
    "    for begin, end in zip(delimiters[::1],delimiters[1::1]):\n",
    "        if not end:\n",
    "            final_end = end\n",
    "            if text[begin-1] == 'A':\n",
    "                final_begin = begin-1\n",
    "            elif text[begin-2:begin] == 'PN':\n",
    "                final_begin = begin-2\n",
    "            elif text[begin-2:begin] == 'AN':\n",
    "                final_begin = begin-3\n",
    "            elif text[begin-1] == 'V':\n",
    "                final_begin = begin-3\n",
    "        else:\n",
    "            if text[begin-1] == 'A':\n",
    "                final_begin = begin-1\n",
    "            elif text[begin-2:begin] == 'PN':\n",
    "                final_begin = begin-2\n",
    "            elif text[begin-2:begin] == 'AN':\n",
    "                final_begin = begin-3\n",
    "            elif text[begin-1] == 'V':\n",
    "                final_begin = begin-3\n",
    "            \n",
    "            if text[end-1] == 'A':\n",
    "                if text[end-2] == '<':\n",
    "                    final_end = end-2\n",
    "                else:\n",
    "                    final_end = end-1\n",
    "            elif text[end-2:end] == 'PN':\n",
    "                if text[end-3] == '<':\n",
    "                    final_end = end-3\n",
    "                else:\n",
    "                    final_end = end-2\n",
    "            elif text[end-2:end] == 'AN':\n",
    "                if text[end-4] == '<':\n",
    "                    final_end = end-4\n",
    "                else:\n",
    "                    final_end = end-3\n",
    "            elif text[end-1:end] == 'V':\n",
    "                if text[end-4] == '<':\n",
    "                    final_end = end-4\n",
    "                else:\n",
    "                    final_end = end-3\n",
    "                    \n",
    "        splitted_targets.append(text[final_begin:final_end])\n",
    "          \n",
    "    pav_list = [string  for string in splitted_targets if 'A>' not in string]\n",
    "    a_list = [string  for string in splitted_targets if 'A>' in string]\n",
    "    if a_list:\n",
    "        a_string = ' '.join([string  for string in splitted_targets if 'A>' in string])\n",
    "    else:\n",
    "        a_string = ''\n",
    "    pav_string = ' '.join([string  for string in splitted_targets if 'A>' not in string])\n",
    "    \n",
    "    return(pav_string, a_string)"
   ]
  },
  {
   "cell_type": "code",
   "execution_count": 9,
   "id": "5f6789aa",
   "metadata": {},
   "outputs": [],
   "source": [
    "#Bovengenoemde functie gebruiken om indicators van 'gewone' antwoorden te splitten\n",
    "PAN_A_target = [split_target(items) for items in prediction_df.loc[PAN_A_rows]['target_text']]\n",
    "PAN_A_predicted_target = [split_target(items) for items in prediction_df.loc[PAN_A_rows]['predicted_target_text']]"
   ]
  },
  {
   "cell_type": "code",
   "execution_count": 10,
   "id": "fb8c073b",
   "metadata": {
    "scrolled": true
   },
   "outputs": [],
   "source": [
    "#Dataframe maken voor de antwoorden die gesplitst zijn\n",
    "PAN_A_target_df = pd.DataFrame(PAN_A_target)\n",
    "PAN_A_target_df = PAN_A_target_df.rename(columns={0: \"PAN_target\", 1: \"A_target\"})\n",
    "\n",
    "PAN_A_predictedtarget_df = pd.DataFrame(PAN_A_predicted_target)\n",
    "PAN_A_predictedtarget_df = PAN_A_predictedtarget_df.rename(columns={0: \"PAN_predicted_target\", 1: \"A_predicted_target\"})\n",
    "\n",
    "PAN_df = pd.concat([PAN_A_target_df['PAN_target'], PAN_A_predictedtarget_df['PAN_predicted_target']], axis=1)\n",
    "PAN_df = PAN_df.rename(columns={\"PAN_target\": \"target_text\", \"PAN_predicted_target\": 'predicted_target_text'})\n",
    "A_df = pd.concat([PAN_A_target_df['A_target'], PAN_A_predictedtarget_df['A_predicted_target']], axis=1)\n",
    "A_df = A_df.rename(columns={\"A_target\": \"target_text\", \"A_predicted_target\": 'predicted_target_text'})"
   ]
  },
  {
   "cell_type": "markdown",
   "id": "c0da0e96",
   "metadata": {},
   "source": [
    "##### 2.3 Berekenen van de similarity scores"
   ]
  },
  {
   "cell_type": "code",
   "execution_count": 365,
   "id": "8a0123b2",
   "metadata": {},
   "outputs": [],
   "source": [
    "PAN_similarity = pd.concat([prediction_df.loc[PAN_rows][['target_text', 'predicted_target_text']], PAN_df])\n",
    "PR_similarity = prediction_df.loc[PR_rows][['target_text', 'predicted_target_text']]"
   ]
  },
  {
   "cell_type": "code",
   "execution_count": 13,
   "id": "c71910b7",
   "metadata": {},
   "outputs": [],
   "source": [
    "#De echte en voorspelde antwoorden worden opgeslagen in een pickle\n",
    "#Met behulp van Google Colab Pro wordt vervolgens de similarity score berekend. Ook hier gaf Python namelijk een memory error.\n",
    "with open('A_from_PAN.pickle', 'wb') as handle:\n",
    "    pickle.dump(A_df, handle)\n",
    "    \n",
    "with open('A_not_from_PAN.pickle', 'wb') as handle:\n",
    "    pickle.dump(prediction_df.loc[A_rows][['target_text', 'predicted_target_text']], handle) \n",
    "    \n",
    "with open('PAN_similarity.pickle', 'wb') as handle:\n",
    "    pickle.dump(PAN_similarity, handle)\n",
    "\n",
    "with open('PR_similarity.pickle', 'wb') as handle:\n",
    "    pickle.dump(PR_similarity, handle)"
   ]
  },
  {
   "cell_type": "code",
   "execution_count": null,
   "id": "428ce075",
   "metadata": {},
   "outputs": [],
   "source": [
    "#Similarity wordt berekend met behulp van onderstaande functie\n",
    "def calculate_similarity(text):\n",
    "    sentence_model = SentenceTransformer('distilbert-base-nli-mean-tokens')\n",
    "    \n",
    "    sentences = [text[0], text[1]]\n",
    "    sentence_embeddings = sentence_model.encode(sentences) \n",
    "    similarity_score = 1 - distance.cosine(sentence_embeddings[0], sentence_embeddings[1])\n",
    "    return similarity_score"
   ]
  },
  {
   "cell_type": "code",
   "execution_count": 7,
   "id": "a75d1dfe",
   "metadata": {},
   "outputs": [],
   "source": [
    "#Openen van bestanden met de similarity scores\n",
    "with open('PAN_PAV_similarity.pickle', 'rb') as handle:\n",
    "    PAN_PAV_similarity = pickle.load(handle)\n",
    "    \n",
    "with open('A_from_PAN_similarity.pickle', 'rb') as handle:\n",
    "    A_from_PAN_similarity = pickle.load(handle)\n",
    "    \n",
    "with open('A_not_from_PAN_similarity.pickle', 'rb') as handle:\n",
    "    A_not_from_PAN_similarity = pickle.load(handle)\n",
    "    \n",
    "with open('PR_answer_similarity.pickle', 'rb') as handle:\n",
    "    PR_answer_similarity = pickle.load(handle)"
   ]
  },
  {
   "cell_type": "markdown",
   "id": "ec04d086",
   "metadata": {},
   "source": [
    "##### 2.4 Berekenen van gemiddelde similarity scores per output"
   ]
  },
  {
   "cell_type": "code",
   "execution_count": 2,
   "id": "32b347de",
   "metadata": {},
   "outputs": [],
   "source": [
    "#Functie om het gemiddelde te berekenen\n",
    "def Average(lst):\n",
    "    return sum(lst) / len(lst)"
   ]
  },
  {
   "cell_type": "code",
   "execution_count": 8,
   "id": "b2ed7e17",
   "metadata": {
    "scrolled": true
   },
   "outputs": [
    {
     "name": "stdout",
     "output_type": "stream",
     "text": [
      "Gemiddelde similarity score van rijen met een indicator als antwoord:  0.9\n",
      "Gemiddelde similarity score van rijen met een 'gewoon' antwoord in combinatie met een indicator:  0.63\n",
      "Gemiddelde similarity score van rijen met een 'gewoon' antwoord gebaseerd op de geprekscontext:  0.74\n",
      "Gemiddelde similarity score van rijen met een antwoord gebaseerd op resultaten van een indicator:  0.73\n"
     ]
    }
   ],
   "source": [
    "print(\"Gemiddelde similarity score van rijen met een indicator als antwoord: \", round(Average(PAN_PAV_similarity),2))\n",
    "print(\"Gemiddelde similarity score van rijen met een 'gewoon' antwoord in combinatie met een indicator: \", round(Average(A_from_PAN_similarity),2))\n",
    "print(\"Gemiddelde similarity score van rijen met een 'gewoon' antwoord gebaseerd op de geprekscontext: \", round(Average(A_not_from_PAN_similarity),2))\n",
    "print(\"Gemiddelde similarity score van rijen met een antwoord gebaseerd op resultaten van een indicator: \", round(Average(PR_answer_similarity),2))"
   ]
  },
  {
   "cell_type": "markdown",
   "id": "3b121b2e",
   "metadata": {},
   "source": [
    "### Gesprek testen"
   ]
  },
  {
   "cell_type": "code",
   "execution_count": 33,
   "id": "ec7671ea",
   "metadata": {},
   "outputs": [],
   "source": [
    "class Conversation:\n",
    "\n",
    "    def __init__(self):\n",
    "        self.context = '<C>'\n",
    "        self.annotation_list = []\n",
    "\n",
    "    def user_sentence(self, user_sentence):\n",
    "        user_sentence = \"<U>\" + user_sentence\n",
    "        #Lijst met alle indicatoren wordt bijgehouden zodat de digital human deze aan het einde van de conversatie kan vertellen aan de klant\n",
    "        if 'Okay' in user_sentence or 'Great' in user_sentence:\n",
    "            a = []\n",
    "            for i in self.annotation_list:\n",
    "                #attribute names\n",
    "                try:\n",
    "                    a.append(i.split(\"PAV>\")[0].split(\".\")[1] + \" \" + i.split(\"PAV>\")[0].split(\".\")[2] + \" is\")\n",
    "                except:\n",
    "                    try: \n",
    "                        a.append(i.split(\"PAV>\")[0].split(\".\")[1].split(\"_\")[0] + \" \" + i.split(\"PAV>\")[0].split(\".\")[1].split(\"_\")[1] + \" is\")\n",
    "                    except:\n",
    "                        a.append(i.split(\"PAV>\")[0].split(\".\")[1] + \" is\")\n",
    "                #attribute values\n",
    "                a.append(i.split(\"PAV>\")[1])\n",
    "            a.insert(0, \"Finding a suitable hotel for the customer with the help of the following attributes:\")\n",
    "            test = ' '.join(a) \n",
    "            return test\n",
    "        else:\n",
    "            answer = model.predict(user_sentence + self.context)[0]\n",
    "            if 'PAN>' in answer:\n",
    "                if 'A>' not in answer:\n",
    "                    answer += \" A>\" + answer.split(\"PAV>\")[1] +'?'\n",
    "                    self.annotation_list.extend([answer.split(\" A>\")[0]])\n",
    "                else:\n",
    "                    self.annotation_list.extend([answer.split(\" A>\")[0]])\n",
    "            new_context = user_sentence + \" \" + \"<\" + answer\n",
    "            self.context = self.context + \" \" + new_context\n",
    "            return answer.split(\"A>\")[1]"
   ]
  },
  {
   "cell_type": "code",
   "execution_count": 36,
   "id": "1e73f6bf",
   "metadata": {},
   "outputs": [],
   "source": [
    "conv = Conversation()"
   ]
  }
 ],
 "metadata": {
  "kernelspec": {
   "display_name": "Python 3 (ipykernel)",
   "language": "python",
   "name": "python3"
  },
  "language_info": {
   "codemirror_mode": {
    "name": "ipython",
    "version": 3
   },
   "file_extension": ".py",
   "mimetype": "text/x-python",
   "name": "python",
   "nbconvert_exporter": "python",
   "pygments_lexer": "ipython3",
   "version": "3.9.7"
  }
 },
 "nbformat": 4,
 "nbformat_minor": 5
}
