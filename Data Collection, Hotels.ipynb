{
 "cells": [
  {
   "cell_type": "markdown",
   "id": "0ff93b3e",
   "metadata": {},
   "source": [
    "## Data Collectie"
   ]
  },
  {
   "cell_type": "markdown",
   "id": "b70e9968",
   "metadata": {},
   "source": [
    "by Kyra Jongman"
   ]
  },
  {
   "cell_type": "markdown",
   "id": "a08cb5ae",
   "metadata": {},
   "source": [
    "## Inhoudsopgave"
   ]
  },
  {
   "cell_type": "markdown",
   "id": "3639e5b4",
   "metadata": {},
   "source": [
    "- Importeren packages\n",
    "- Importeren data\n",
    "- Functie\n",
    "- Hoe ziet een conversatie eruit?\n",
    "- Data transformeren\n",
    "- EDA:\n",
    "    1. Uit hoeveel conversaties bestaat de dataset?\n",
    "    2. Wat is het minimale, maximale en gemiddelde aantal zinnen in een conversatie?\n",
    "    3. Wat is de verdeling van het aantal zinnen in een conversatie?\n",
    "    4. Hoe vaak is een hotel daadwerkelijk geboekt door een medewerker?\n",
    "        4.1 Wat is het gemiddelde aantal zinnen in een conversatie waarbij een hotel geboekt wordt?\n",
    "    5. Wat is het bedrag dat mensen per nacht willen  uitgeven?\n",
    "        5.1 Wat is de verdeling binnen de laagste prijsklasse?\n",
    "        5.2 Wat is de verdeling binnen de hoogste prijsklasse?\n",
    "    6. Wat zijn de voorkeuren van mensen voor sterrenclassificatie van een hotel?\n",
    "    7. Wat is het percentage antwoorden dat gegeven wordt door een gebruiker en een assistant?\n",
    "    8. Wat is het percentage positieve en negatieve woorden in de conversatie?"
   ]
  },
  {
   "cell_type": "markdown",
   "id": "cdde2ffd",
   "metadata": {},
   "source": [
    "### Importeren packages"
   ]
  },
  {
   "cell_type": "code",
   "execution_count": 80,
   "id": "c94b61ee",
   "metadata": {},
   "outputs": [],
   "source": [
    "from deep_translator import GoogleTranslator\n",
    "import pandas as pd\n",
    "import pickle\n",
    "import matplotlib.pyplot as plt\n",
    "from price_parser import Price\n",
    "import seaborn as sns\n",
    "from currency_converter import CurrencyConverter\n",
    "from nltk.tokenize import word_tokenize\n",
    "import re\n",
    "from word2number import w2n"
   ]
  },
  {
   "cell_type": "markdown",
   "id": "bdfb1c5c",
   "metadata": {},
   "source": [
    "### Importeren data"
   ]
  },
  {
   "cell_type": "code",
   "execution_count": 2,
   "id": "a0358cc7",
   "metadata": {},
   "outputs": [
    {
     "data": {
      "text/html": [
       "<div>\n",
       "<style scoped>\n",
       "    .dataframe tbody tr th:only-of-type {\n",
       "        vertical-align: middle;\n",
       "    }\n",
       "\n",
       "    .dataframe tbody tr th {\n",
       "        vertical-align: top;\n",
       "    }\n",
       "\n",
       "    .dataframe thead th {\n",
       "        text-align: right;\n",
       "    }\n",
       "</style>\n",
       "<table border=\"1\" class=\"dataframe\">\n",
       "  <thead>\n",
       "    <tr style=\"text-align: right;\">\n",
       "      <th></th>\n",
       "      <th>conversation_id</th>\n",
       "      <th>instruction_id</th>\n",
       "      <th>utterances</th>\n",
       "    </tr>\n",
       "  </thead>\n",
       "  <tbody>\n",
       "    <tr>\n",
       "      <th>0</th>\n",
       "      <td>dlg-0010a9d6-91c2-4b9b-ad73-33b44a8b5d42</td>\n",
       "      <td>hotel-2</td>\n",
       "      <td>[{'index': 0, 'speaker': 'ASSISTANT', 'text': ...</td>\n",
       "    </tr>\n",
       "    <tr>\n",
       "      <th>1</th>\n",
       "      <td>dlg-00131332-f7b3-4227-9672-652dd3a2c39e</td>\n",
       "      <td>hotel-1b</td>\n",
       "      <td>[{'index': 0, 'speaker': 'USER', 'text': 'I'd ...</td>\n",
       "    </tr>\n",
       "    <tr>\n",
       "      <th>2</th>\n",
       "      <td>dlg-00258574-83c8-4bb0-a0f0-4f744715cb27</td>\n",
       "      <td>hotel-1c</td>\n",
       "      <td>[{'index': 0, 'speaker': 'USER', 'text': 'I'd ...</td>\n",
       "    </tr>\n",
       "    <tr>\n",
       "      <th>3</th>\n",
       "      <td>dlg-0032fc41-9845-4be6-b9f5-0e6d898fda57</td>\n",
       "      <td>hotel-8</td>\n",
       "      <td>[{'index': 0, 'speaker': 'ASSISTANT', 'text': ...</td>\n",
       "    </tr>\n",
       "    <tr>\n",
       "      <th>4</th>\n",
       "      <td>dlg-003fa5f0-3457-464b-b22b-e74194fe172a</td>\n",
       "      <td>hotel-10</td>\n",
       "      <td>[{'index': 0, 'speaker': 'ASSISTANT', 'text': ...</td>\n",
       "    </tr>\n",
       "  </tbody>\n",
       "</table>\n",
       "</div>"
      ],
      "text/plain": [
       "                            conversation_id instruction_id  \\\n",
       "0  dlg-0010a9d6-91c2-4b9b-ad73-33b44a8b5d42        hotel-2   \n",
       "1  dlg-00131332-f7b3-4227-9672-652dd3a2c39e       hotel-1b   \n",
       "2  dlg-00258574-83c8-4bb0-a0f0-4f744715cb27       hotel-1c   \n",
       "3  dlg-0032fc41-9845-4be6-b9f5-0e6d898fda57        hotel-8   \n",
       "4  dlg-003fa5f0-3457-464b-b22b-e74194fe172a       hotel-10   \n",
       "\n",
       "                                          utterances  \n",
       "0  [{'index': 0, 'speaker': 'ASSISTANT', 'text': ...  \n",
       "1  [{'index': 0, 'speaker': 'USER', 'text': 'I'd ...  \n",
       "2  [{'index': 0, 'speaker': 'USER', 'text': 'I'd ...  \n",
       "3  [{'index': 0, 'speaker': 'ASSISTANT', 'text': ...  \n",
       "4  [{'index': 0, 'speaker': 'ASSISTANT', 'text': ...  "
      ]
     },
     "execution_count": 2,
     "metadata": {},
     "output_type": "execute_result"
    }
   ],
   "source": [
    "url = \"https://raw.githubusercontent.com/google-research-datasets/Taskmaster/master/TM-2-2020/data/hotels.json\"\n",
    "df = pd.read_json(url)\n",
    "df.head()"
   ]
  },
  {
   "cell_type": "markdown",
   "id": "79cb01be",
   "metadata": {},
   "source": [
    "### Functie"
   ]
  },
  {
   "cell_type": "markdown",
   "id": "ea68325f",
   "metadata": {},
   "source": [
    "Deze functie kan aangeroepen worden door een lijst met bijvoorbeeld alle hotelnamen uit de dataset terug te krijgen"
   ]
  },
  {
   "cell_type": "code",
   "execution_count": 3,
   "id": "f7ac59de",
   "metadata": {},
   "outputs": [],
   "source": [
    "def get_list(list_name, search_term):\n",
    "    list_name = []\n",
    "    for index, conversations in df['utterances'].iteritems():\n",
    "        for sentences in conversations:\n",
    "            if 'segments' in sentences:\n",
    "                for i in sentences['segments']:\n",
    "                    if search_term in i['annotations'][0]['name']:\n",
    "                        list_name.append((index, sentences['index'], i['text']))\n",
    "    return list_name"
   ]
  },
  {
   "cell_type": "markdown",
   "id": "c2428030",
   "metadata": {},
   "source": [
    "Er kan uit de onderstaande namen gekozen worden om een lijst terug te krijgen"
   ]
  },
  {
   "cell_type": "code",
   "execution_count": 21,
   "id": "d0a0d297",
   "metadata": {
    "scrolled": true
   },
   "outputs": [
    {
     "data": {
      "text/plain": [
       "{'hotel1_detail.amenity',\n",
       " 'hotel1_detail.customer_rating',\n",
       " 'hotel1_detail.customer_review',\n",
       " 'hotel1_detail.location',\n",
       " 'hotel1_detail.name.hotel',\n",
       " 'hotel1_detail.other_detail',\n",
       " 'hotel1_detail.price_per_night',\n",
       " 'hotel1_detail.star_rating',\n",
       " 'hotel1_detail.total_fare',\n",
       " 'hotel1_detail.type.room',\n",
       " 'hotel2_detail.amenity',\n",
       " 'hotel2_detail.customer_rating',\n",
       " 'hotel2_detail.customer_review',\n",
       " 'hotel2_detail.location',\n",
       " 'hotel2_detail.name.hotel',\n",
       " 'hotel2_detail.other_detail',\n",
       " 'hotel2_detail.price_per_night',\n",
       " 'hotel2_detail.star_rating',\n",
       " 'hotel2_detail.total_fare',\n",
       " 'hotel2_detail.type.room',\n",
       " 'hotel3_detail.amenity',\n",
       " 'hotel3_detail.customer_rating',\n",
       " 'hotel3_detail.customer_review',\n",
       " 'hotel3_detail.location',\n",
       " 'hotel3_detail.name.hotel',\n",
       " 'hotel3_detail.other_detail',\n",
       " 'hotel3_detail.price_per_night',\n",
       " 'hotel3_detail.star_rating',\n",
       " 'hotel3_detail.type.room',\n",
       " 'hotel4_detail.amenity',\n",
       " 'hotel4_detail.customer_rating',\n",
       " 'hotel4_detail.location',\n",
       " 'hotel4_detail.name.hotel',\n",
       " 'hotel4_detail.other_detail',\n",
       " 'hotel4_detail.price_per_night',\n",
       " 'hotel4_detail.star_rating',\n",
       " 'hotel4_detail.total_fare',\n",
       " 'hotel_booked.hotel_booked',\n",
       " 'hotel_search. num.beds',\n",
       " 'hotel_search.amenity',\n",
       " 'hotel_search.check-in_date',\n",
       " 'hotel_search.check-out_date',\n",
       " 'hotel_search.customer_rating',\n",
       " 'hotel_search.date_range',\n",
       " 'hotel_search.location.hotel',\n",
       " 'hotel_search.name.hotel',\n",
       " 'hotel_search.num.guests',\n",
       " 'hotel_search.num.rooms',\n",
       " 'hotel_search.other_request',\n",
       " 'hotel_search.price_range',\n",
       " 'hotel_search.star_rating',\n",
       " 'hotel_search.sub_location.hotel',\n",
       " 'hotel_search.type.bed',\n",
       " 'hotel_search.type.room'}"
      ]
     },
     "execution_count": 21,
     "metadata": {},
     "output_type": "execute_result"
    }
   ],
   "source": [
    "annotation_names =[]\n",
    "for rows in df['utterances']:\n",
    "    for item in rows:\n",
    "        if 'segments' in item:\n",
    "            annotation_names.append(item['segments'][0]['annotations'][0]['name'])\n",
    "set(annotation_names)         "
   ]
  },
  {
   "cell_type": "markdown",
   "id": "6858bd9f",
   "metadata": {},
   "source": [
    "### Hoe ziet een conversatie eruit?"
   ]
  },
  {
   "cell_type": "code",
   "execution_count": 6,
   "id": "8a04290f",
   "metadata": {},
   "outputs": [
    {
     "data": {
      "text/plain": [
       "[{'index': 0, 'speaker': 'ASSISTANT', 'text': 'Hello! How can I help you?'},\n",
       " {'index': 1, 'speaker': 'USER', 'text': 'Hi, I would like to find a hotel.'},\n",
       " {'index': 2, 'speaker': 'ASSISTANT', 'text': 'Okay.'},\n",
       " {'index': 3,\n",
       "  'speaker': 'ASSISTANT',\n",
       "  'text': 'What else can you tell me about the hotel?'},\n",
       " {'index': 4,\n",
       "  'speaker': 'USER',\n",
       "  'text': 'Find a hotel near the beachfront.',\n",
       "  'segments': [{'start_index': 13,\n",
       "    'end_index': 32,\n",
       "    'text': 'near the beachfront',\n",
       "    'annotations': [{'name': 'hotel_search.sub_location.hotel'}]}]},\n",
       " {'index': 5,\n",
       "  'speaker': 'ASSISTANT',\n",
       "  'text': 'Okay beachfront in which town?',\n",
       "  'segments': [{'start_index': 5,\n",
       "    'end_index': 15,\n",
       "    'text': 'beachfront',\n",
       "    'annotations': [{'name': 'hotel_search.sub_location.hotel'}]}]},\n",
       " {'index': 6,\n",
       "  'speaker': 'USER',\n",
       "  'text': 'Oxnard California.',\n",
       "  'segments': [{'start_index': 0,\n",
       "    'end_index': 17,\n",
       "    'text': 'Oxnard California',\n",
       "    'annotations': [{'name': 'hotel_search.location.hotel'}]}]},\n",
       " {'index': 7, 'speaker': 'ASSISTANT', 'text': 'Okay.'},\n",
       " {'index': 8,\n",
       "  'speaker': 'USER',\n",
       "  'text': 'My price range is $300 for a night.',\n",
       "  'segments': [{'start_index': 18,\n",
       "    'end_index': 34,\n",
       "    'text': '$300 for a night',\n",
       "    'annotations': [{'name': 'hotel_search.price_range'}]}]},\n",
       " {'index': 9, 'speaker': 'ASSISTANT', 'text': 'Okay.'},\n",
       " {'index': 10, 'speaker': 'ASSISTANT', 'text': 'Is that all?'},\n",
       " {'index': 11,\n",
       "  'speaker': 'USER',\n",
       "  'text': 'No. I want a room with a balcony.',\n",
       "  'segments': [{'start_index': 23,\n",
       "    'end_index': 32,\n",
       "    'text': 'a balcony',\n",
       "    'annotations': [{'name': 'hotel_search.amenity'}]}]},\n",
       " {'index': 12, 'speaker': 'ASSISTANT', 'text': 'Okay, what else?'},\n",
       " {'index': 13,\n",
       "  'speaker': 'USER',\n",
       "  'text': 'I will stay on next year June 16th to 19th, 2017.',\n",
       "  'segments': [{'start_index': 15,\n",
       "    'end_index': 48,\n",
       "    'text': 'next year June 16th to 19th, 2017',\n",
       "    'annotations': [{'name': 'hotel_search.date_range'}]}]},\n",
       " {'index': 14, 'speaker': 'ASSISTANT', 'text': 'Alright.'},\n",
       " {'index': 15,\n",
       "  'speaker': 'ASSISTANT',\n",
       "  'text': 'Let me describe a couple of options you can choose from.'},\n",
       " {'index': 16,\n",
       "  'speaker': 'ASSISTANT',\n",
       "  'text': \"Staybridge Suites Carlsbad, it's $145 per night. It's rated 4.5 stars. Warm suites with kitchens in a relaxed property featuring an outdoor pool, a gym & a BBQ area.\",\n",
       "  'segments': [{'start_index': 0,\n",
       "    'end_index': 26,\n",
       "    'text': 'Staybridge Suites Carlsbad',\n",
       "    'annotations': [{'name': 'hotel1_detail.name.hotel'}]},\n",
       "   {'start_index': 33,\n",
       "    'end_index': 47,\n",
       "    'text': '$145 per night',\n",
       "    'annotations': [{'name': 'hotel1_detail.price_per_night'}]},\n",
       "   {'start_index': 60,\n",
       "    'end_index': 69,\n",
       "    'text': '4.5 stars',\n",
       "    'annotations': [{'name': 'hotel1_detail.customer_rating'}]},\n",
       "   {'start_index': 71,\n",
       "    'end_index': 164,\n",
       "    'text': 'Warm suites with kitchens in a relaxed property featuring an outdoor pool, a gym & a BBQ area',\n",
       "    'annotations': [{'name': 'hotel1_detail.other_detail'}]},\n",
       "   {'start_index': 129,\n",
       "    'end_index': 144,\n",
       "    'text': 'an outdoor pool',\n",
       "    'annotations': [{'name': 'hotel1_detail.amenity'}]},\n",
       "   {'start_index': 146,\n",
       "    'end_index': 151,\n",
       "    'text': 'a gym',\n",
       "    'annotations': [{'name': 'hotel1_detail.amenity'}]},\n",
       "   {'start_index': 154,\n",
       "    'end_index': 164,\n",
       "    'text': 'a BBQ area',\n",
       "    'annotations': [{'name': 'hotel1_detail.amenity'}]}]},\n",
       " {'index': 17,\n",
       "  'speaker': 'ASSISTANT',\n",
       "  'text': \"Park Hyatt Aviara resort Golf Club and Spa, it's $279 per night. It’s rated 4.8 stars. Resort offering an 18-hole golf course, an outdoor pool & tennis courts plus a spa & fine dining.\",\n",
       "  'segments': [{'start_index': 0,\n",
       "    'end_index': 42,\n",
       "    'text': 'Park Hyatt Aviara resort Golf Club and Spa',\n",
       "    'annotations': [{'name': 'hotel2_detail.name.hotel'}]},\n",
       "   {'start_index': 49,\n",
       "    'end_index': 63,\n",
       "    'text': '$279 per night',\n",
       "    'annotations': [{'name': 'hotel2_detail.price_per_night'}]},\n",
       "   {'start_index': 76,\n",
       "    'end_index': 85,\n",
       "    'text': '4.8 stars',\n",
       "    'annotations': [{'name': 'hotel2_detail.customer_rating'}]},\n",
       "   {'start_index': 87,\n",
       "    'end_index': 183,\n",
       "    'text': 'Resort offering an 18-hole golf course, an outdoor pool & tennis courts plus a spa & fine dining',\n",
       "    'annotations': [{'name': 'hotel2_detail.other_detail'}]},\n",
       "   {'start_index': 103,\n",
       "    'end_index': 125,\n",
       "    'text': 'an 18-hole golf course',\n",
       "    'annotations': [{'name': 'hotel2_detail.amenity'}]},\n",
       "   {'start_index': 127,\n",
       "    'end_index': 142,\n",
       "    'text': 'an outdoor pool',\n",
       "    'annotations': [{'name': 'hotel2_detail.amenity'}]},\n",
       "   {'start_index': 145,\n",
       "    'end_index': 158,\n",
       "    'text': 'tennis courts',\n",
       "    'annotations': [{'name': 'hotel2_detail.amenity'}]},\n",
       "   {'start_index': 164,\n",
       "    'end_index': 169,\n",
       "    'text': 'a spa',\n",
       "    'annotations': [{'name': 'hotel2_detail.amenity'}]},\n",
       "   {'start_index': 172,\n",
       "    'end_index': 183,\n",
       "    'text': 'fine dining',\n",
       "    'annotations': [{'name': 'hotel2_detail.amenity'}]}]},\n",
       " {'index': 18,\n",
       "  'speaker': 'ASSISTANT',\n",
       "  'text': 'Those are the two options. Which one do you want?'},\n",
       " {'index': 19,\n",
       "  'speaker': 'USER',\n",
       "  'text': 'I want the second one, it looks great for me.'},\n",
       " {'index': 20, 'speaker': 'ASSISTANT', 'text': 'Okay.'},\n",
       " {'index': 21,\n",
       "  'speaker': 'USER',\n",
       "  'text': 'Tell me more about the second one.'},\n",
       " {'index': 22, 'speaker': 'ASSISTANT', 'text': 'What would you like to know?'},\n",
       " {'index': 23,\n",
       "  'speaker': 'USER',\n",
       "  'text': 'Does hotel have a fitness center?',\n",
       "  'segments': [{'start_index': 16,\n",
       "    'end_index': 32,\n",
       "    'text': 'a fitness center',\n",
       "    'annotations': [{'name': 'hotel_search.amenity'}]}]},\n",
       " {'index': 24, 'speaker': 'ASSISTANT', 'text': 'Yes, it does.'},\n",
       " {'index': 25, 'speaker': 'ASSISTANT', 'text': 'Thank you.'},\n",
       " {'index': 26, 'speaker': 'USER', 'text': 'Okay, thank you.'}]"
      ]
     },
     "execution_count": 6,
     "metadata": {},
     "output_type": "execute_result"
    }
   ],
   "source": [
    "df['utterances'][0]"
   ]
  },
  {
   "cell_type": "markdown",
   "id": "9e2b8d22",
   "metadata": {},
   "source": [
    "### Data transformeren"
   ]
  },
  {
   "cell_type": "code",
   "execution_count": 5,
   "id": "141112f2",
   "metadata": {},
   "outputs": [
    {
     "data": {
      "text/html": [
       "<div>\n",
       "<style scoped>\n",
       "    .dataframe tbody tr th:only-of-type {\n",
       "        vertical-align: middle;\n",
       "    }\n",
       "\n",
       "    .dataframe tbody tr th {\n",
       "        vertical-align: top;\n",
       "    }\n",
       "\n",
       "    .dataframe thead th {\n",
       "        text-align: right;\n",
       "    }\n",
       "</style>\n",
       "<table border=\"1\" class=\"dataframe\">\n",
       "  <thead>\n",
       "    <tr style=\"text-align: right;\">\n",
       "      <th></th>\n",
       "      <th>conversation_id</th>\n",
       "      <th>response_id</th>\n",
       "      <th>speaker</th>\n",
       "      <th>text_response</th>\n",
       "    </tr>\n",
       "  </thead>\n",
       "  <tbody>\n",
       "    <tr>\n",
       "      <th>0</th>\n",
       "      <td>0</td>\n",
       "      <td>0</td>\n",
       "      <td>ASSISTANT</td>\n",
       "      <td>Hello! How can I help you?</td>\n",
       "    </tr>\n",
       "    <tr>\n",
       "      <th>1</th>\n",
       "      <td>0</td>\n",
       "      <td>1</td>\n",
       "      <td>USER</td>\n",
       "      <td>Hi, I would like to find a hotel.</td>\n",
       "    </tr>\n",
       "    <tr>\n",
       "      <th>2</th>\n",
       "      <td>0</td>\n",
       "      <td>2</td>\n",
       "      <td>ASSISTANT</td>\n",
       "      <td>Okay.</td>\n",
       "    </tr>\n",
       "    <tr>\n",
       "      <th>3</th>\n",
       "      <td>0</td>\n",
       "      <td>3</td>\n",
       "      <td>ASSISTANT</td>\n",
       "      <td>What else can you tell me about the hotel?</td>\n",
       "    </tr>\n",
       "    <tr>\n",
       "      <th>4</th>\n",
       "      <td>0</td>\n",
       "      <td>4</td>\n",
       "      <td>USER</td>\n",
       "      <td>Find a hotel near the beachfront.</td>\n",
       "    </tr>\n",
       "  </tbody>\n",
       "</table>\n",
       "</div>"
      ],
      "text/plain": [
       "   conversation_id  response_id    speaker  \\\n",
       "0                0            0  ASSISTANT   \n",
       "1                0            1       USER   \n",
       "2                0            2  ASSISTANT   \n",
       "3                0            3  ASSISTANT   \n",
       "4                0            4       USER   \n",
       "\n",
       "                                text_response  \n",
       "0                  Hello! How can I help you?  \n",
       "1           Hi, I would like to find a hotel.  \n",
       "2                                       Okay.  \n",
       "3  What else can you tell me about the hotel?  \n",
       "4           Find a hotel near the beachfront.  "
      ]
     },
     "execution_count": 5,
     "metadata": {},
     "output_type": "execute_result"
    }
   ],
   "source": [
    "conversation = {'conversation_id': [], 'response_id': [], 'speaker': [], 'text_response': []}\n",
    "conversations_number = -1\n",
    "\n",
    "for number_of_conversations in range(0, len(df)):\n",
    "    conversations_number = conversations_number + 1\n",
    "    for conversations in df.loc[number_of_conversations]['utterances']:\n",
    "        conversation['conversation_id'].append(conversations_number)\n",
    "        conversation['response_id'].append(conversations['index'])\n",
    "        conversation['speaker'].append(conversations['speaker'])\n",
    "        conversation['text_response'].append(conversations['text'])\n",
    "        \n",
    "df_normal = pd.DataFrame(conversation)\n",
    "df_normal.to_csv('hotel_conversation_normal.csv', index=False)\n",
    "\n",
    "hotel_conversation_normal = pd.read_csv('hotel_conversation_normal.csv')\n",
    "hotel_conversation_normal.head(5)        "
   ]
  },
  {
   "cell_type": "markdown",
   "id": "e53f2729",
   "metadata": {},
   "source": [
    "### EDA"
   ]
  },
  {
   "cell_type": "markdown",
   "id": "1255adf9",
   "metadata": {},
   "source": [
    "#### 1. Uit hoeveel conversaties bestaat de dataset?"
   ]
  },
  {
   "cell_type": "code",
   "execution_count": 8,
   "id": "5a5929b2",
   "metadata": {
    "scrolled": true
   },
   "outputs": [
    {
     "name": "stdout",
     "output_type": "stream",
     "text": [
      "De data bestaat uit: 2356 conversaties \n"
     ]
    }
   ],
   "source": [
    "print('De data bestaat uit: ' +  str(max(hotel_conversation_normal['conversation_id'])) + \" conversaties \")"
   ]
  },
  {
   "cell_type": "markdown",
   "id": "bff32b5a",
   "metadata": {},
   "source": [
    "#### 2. Wat is het minimale, maximale en gemiddelde aantal zinnen in een conversatie?"
   ]
  },
  {
   "cell_type": "code",
   "execution_count": 9,
   "id": "a05eb68c",
   "metadata": {},
   "outputs": [
    {
     "data": {
      "text/plain": [
       "count    2357.000000\n",
       "mean       26.749258\n",
       "std        10.221420\n",
       "min         4.000000\n",
       "25%        20.000000\n",
       "50%        25.000000\n",
       "75%        32.000000\n",
       "max       187.000000\n",
       "dtype: float64"
      ]
     },
     "execution_count": 9,
     "metadata": {},
     "output_type": "execute_result"
    }
   ],
   "source": [
    "hotel_conversation_normal.groupby(['conversation_id']).size().describe()"
   ]
  },
  {
   "cell_type": "code",
   "execution_count": 10,
   "id": "7a7bd8e8",
   "metadata": {
    "scrolled": true
   },
   "outputs": [
    {
     "name": "stderr",
     "output_type": "stream",
     "text": [
      "C:\\Users\\kaj\\Anaconda3\\lib\\site-packages\\seaborn\\_decorators.py:36: FutureWarning: Pass the following variable as a keyword arg: x. From version 0.12, the only valid positional argument will be `data`, and passing other arguments without an explicit keyword will result in an error or misinterpretation.\n",
      "  warnings.warn(\n"
     ]
    },
    {
     "data": {
      "image/png": "[encoded data removed]",
      "text/plain": [
       "<Figure size 432x288 with 1 Axes>"
      ]
     },
     "metadata": {},
     "output_type": "display_data"
    }
   ],
   "source": [
    "sns.set_theme(style=\"whitegrid\")\n",
    "sns.boxplot(hotel_conversation_normal.groupby('conversation_id').size()).set_title('Amount of sentences per conversation');"
   ]
  },
  {
   "cell_type": "markdown",
   "id": "f97b0d40",
   "metadata": {},
   "source": [
    "De bovenstaande grafiek laat een outlier zien. Dit is een aantal van 187 zinnen in een conversatie."
   ]
  },
  {
   "cell_type": "markdown",
   "id": "3f00ba22",
   "metadata": {},
   "source": [
    "#### 3. Wat is de verdeling van het aantal zinnen in een conversatie?"
   ]
  },
  {
   "cell_type": "code",
   "execution_count": 110,
   "id": "f143709a",
   "metadata": {
    "scrolled": true
   },
   "outputs": [
    {
     "data": {
      "image/png": "[encoded data removed]",
      "text/plain": [
       "<Figure size 432x288 with 1 Axes>"
      ]
     },
     "metadata": {
      "needs_background": "light"
     },
     "output_type": "display_data"
    }
   ],
   "source": [
    "#New dataframe with sentences\n",
    "df_sentences = pd.DataFrame(hotel_conversation_normal.groupby(['conversation_id']).size(), columns=['Aantal']).reset_index()\n",
    "\n",
    "#Make sentences groups\n",
    "bins = [0, 9, 19, 29, 39, 49, 59, 69, 79, 200]\n",
    "labels = ['0-9','10-19', '20-29', '30-39', '40-49', '50-59', '60-69', '70-79', '80+']\n",
    "df_sentences['sentences_range'] = pd.cut(df_sentences.Aantal, bins, labels = labels,include_lowest = True)\n",
    "\n",
    "#Make histogram of sentences groups\n",
    "sns.histplot(data=df_sentences, x=\"sentences_range\").set_title(\"Sentences distribution\");"
   ]
  },
  {
   "cell_type": "markdown",
   "id": "41794675",
   "metadata": {},
   "source": [
    "De bovenstaande grafiek toont het aantal zinnen per conversatie tussen een medewerker en klant. De grafiek laat zien dat de meeste gesprekken bestaan uit 10 tot 39 zinnen. Het gemiddelde aantal zinnen in een conversatie is ongeveer 27. Er zijn vrijwel geen gesprekken geweest met minder dan 10 zinnen en meer dan 60 zinnen. "
   ]
  },
  {
   "cell_type": "markdown",
   "id": "3792132b",
   "metadata": {},
   "source": [
    "#### 4. Hoe vaak is een hotel daadwerkelijk geboekt door een medewerker?"
   ]
  },
  {
   "cell_type": "code",
   "execution_count": 85,
   "id": "e6e1d949",
   "metadata": {
    "scrolled": false
   },
   "outputs": [
    {
     "name": "stdout",
     "output_type": "stream",
     "text": [
      "Er zijn 772 hotels geboekt in de conversaties\n"
     ]
    }
   ],
   "source": [
    "hotel_booked = get_list('hotel_booked', 'hotel_booked')\n",
    "print(\"Er zijn \" + str(len(hotel_booked)) + \" hotels geboekt in de conversaties\")"
   ]
  },
  {
   "cell_type": "markdown",
   "id": "d455b8e0",
   "metadata": {},
   "source": [
    "In 33% van alle 2356 gesprekken (772) boekt de medewerker een hotel voor een klant. Dit is een relatief laag percentage wat kan betekenen dat enkele gesprekken abrupt afgebroken worden. Als dit het geval is, dan zou het lastig kunnen worden voor een digital human om een gesprek op een goede manier af te sluiten. "
   ]
  },
  {
   "cell_type": "markdown",
   "id": "d2d32c47",
   "metadata": {},
   "source": [
    "4.1 Wat is gemiddelde aantal zinnen in een conversatie waarbij een hotel geboekt wordt?"
   ]
  },
  {
   "cell_type": "code",
   "execution_count": 150,
   "id": "b131bae7",
   "metadata": {
    "scrolled": false
   },
   "outputs": [
    {
     "name": "stderr",
     "output_type": "stream",
     "text": [
      "C:\\Users\\kaj\\AppData\\Local\\Temp/ipykernel_2976/3862321032.py:2: SettingWithCopyWarning: \n",
      "A value is trying to be set on a copy of a slice from a DataFrame.\n",
      "Try using .loc[row_indexer,col_indexer] = value instead\n",
      "\n",
      "See the caveats in the documentation: https://pandas.pydata.org/pandas-docs/stable/user_guide/indexing.html#returning-a-view-versus-a-copy\n",
      "  not_booked_conversation['mean_sentences'] = not_booked_conversation['Aantal'].mean()\n",
      "C:\\Users\\kaj\\AppData\\Local\\Temp/ipykernel_2976/3862321032.py:3: SettingWithCopyWarning: \n",
      "A value is trying to be set on a copy of a slice from a DataFrame.\n",
      "Try using .loc[row_indexer,col_indexer] = value instead\n",
      "\n",
      "See the caveats in the documentation: https://pandas.pydata.org/pandas-docs/stable/user_guide/indexing.html#returning-a-view-versus-a-copy\n",
      "  not_booked_conversation['category'] = 'not booked conversation'\n",
      "C:\\Users\\kaj\\AppData\\Local\\Temp/ipykernel_2976/3862321032.py:6: SettingWithCopyWarning: \n",
      "A value is trying to be set on a copy of a slice from a DataFrame.\n",
      "Try using .loc[row_indexer,col_indexer] = value instead\n",
      "\n",
      "See the caveats in the documentation: https://pandas.pydata.org/pandas-docs/stable/user_guide/indexing.html#returning-a-view-versus-a-copy\n",
      "  booked_conversation['mean_sentences'] = booked_conversation['Aantal'].mean()\n",
      "C:\\Users\\kaj\\AppData\\Local\\Temp/ipykernel_2976/3862321032.py:7: SettingWithCopyWarning: \n",
      "A value is trying to be set on a copy of a slice from a DataFrame.\n",
      "Try using .loc[row_indexer,col_indexer] = value instead\n",
      "\n",
      "See the caveats in the documentation: https://pandas.pydata.org/pandas-docs/stable/user_guide/indexing.html#returning-a-view-versus-a-copy\n",
      "  booked_conversation['category'] = 'booked conversation'\n"
     ]
    },
    {
     "data": {
      "image/png": "[encoded data removed]",
      "text/plain": [
       "<Figure size 432x288 with 1 Axes>"
      ]
     },
     "metadata": {
      "needs_background": "light"
     },
     "output_type": "display_data"
    }
   ],
   "source": [
    "not_booked_conversation = df_sentences[~df_sentences['conversation_id'].isin([x[0] for x in hotel_booked])]\n",
    "not_booked_conversation['mean_sentences'] = not_booked_conversation['Aantal'].mean()\n",
    "not_booked_conversation['category'] = 'not booked conversation'\n",
    "\n",
    "booked_conversation = df_sentences[df_sentences['conversation_id'].isin([x[0] for x in hotel_booked])]\n",
    "booked_conversation['mean_sentences'] = booked_conversation['Aantal'].mean()\n",
    "booked_conversation['category'] = 'booked conversation'\n",
    "\n",
    "frames = [not_booked_conversation, booked_conversation]\n",
    "result = pd.concat(frames).reset_index()\n",
    "\n",
    "sns.barplot(x='category', y='mean_sentences', data=result, palette=\"Blues_d\").set_title(\"Average amount of sentences per conversation booked VS not booked\");"
   ]
  },
  {
   "cell_type": "markdown",
   "id": "b06df4eb",
   "metadata": {},
   "source": [
    "Er is geen duidelijk verschil te zien tussen het gemiddelde aantal zinnen in een conversatie waarbij wel en niet een hotel geboekt wordt."
   ]
  },
  {
   "cell_type": "markdown",
   "id": "04d23b61",
   "metadata": {},
   "source": [
    "#### 5. Wat is het bedrag dat mensen per nacht willen uitgeven?"
   ]
  },
  {
   "cell_type": "code",
   "execution_count": 22,
   "id": "2a8fc466",
   "metadata": {},
   "outputs": [],
   "source": [
    "price_range_customer = get_list('price_range', 'price_range')\n",
    "\n",
    "words_in_text = []\n",
    "for text in price_range_customer:\n",
    "    txt = text[2].split(' ')\n",
    "    for words in txt:\n",
    "        words_in_text.append((text[0], text[1], Price.fromstring(str(words)).amount))\n",
    "without_nones = [t for t in words_in_text if None not in t]  \n",
    "\n",
    "#Get only user prices\n",
    "user_prices_list = []\n",
    "for index, row in hotel_conversation_normal.iterrows():\n",
    "    for prices in without_nones:\n",
    "        if prices[0] == row['conversation_id'] and prices[1] == row['response_id']:\n",
    "            if row['speaker'] == 'USER':\n",
    "                user_prices_list.append(prices)"
   ]
  },
  {
   "cell_type": "code",
   "execution_count": 24,
   "id": "588dc533",
   "metadata": {
    "scrolled": true
   },
   "outputs": [
    {
     "data": {
      "image/png": "[encoded data removed]",
      "text/plain": [
       "<Figure size 432x288 with 1 Axes>"
      ]
     },
     "metadata": {
      "needs_background": "light"
     },
     "output_type": "display_data"
    }
   ],
   "source": [
    "price_df = pd.DataFrame(set(user_prices_list), columns=['Conversation_ID', 'Text_Response_ID', 'Price'])\n",
    "\n",
    "#Categorize prices into different groups\n",
    "bins = [0, 199, 399, 599, 799, 10000]\n",
    "labels = ['0-199', '200-399', '400-599', '600-799', '800+']\n",
    "price_df[\"price_range (dollar)\"] = pd.cut(price_df.Price, bins, labels = labels,include_lowest = True)\n",
    "\n",
    "#Visualize price groups\n",
    "sns.histplot(data=price_df, x=\"price_range (dollar)\").set_title(\"Price range distribution\");"
   ]
  },
  {
   "cell_type": "markdown",
   "id": "cd15b8cb",
   "metadata": {},
   "source": [
    "De bovenstaande grafiek toont het bedrag in dollars dat klanten per nacht willen uitgeven. De grafiek laat zien dat ongeveer 1700 klanten bereid zijn om tussen de 0 en 400 dollar per nacht te betalen. 55 klanten hebben zelfs een budget van meer dan 800 dollar. Het gemiddelde bedrag dat klanten willen uitgeven per nacht is 301 dollar. Dit is een relatief hoog bedrag wat zou kunnen betekenen dat klanten bereid zijn veel te betalen of dat de bedragen in de data niet helemaal kloppen. "
   ]
  },
  {
   "cell_type": "markdown",
   "id": "3bfbeef4",
   "metadata": {},
   "source": [
    "5.1 Wat is de verdeling binnen de laagste prijsklasse?"
   ]
  },
  {
   "cell_type": "code",
   "execution_count": 35,
   "id": "f19bb104",
   "metadata": {
    "scrolled": false
   },
   "outputs": [
    {
     "name": "stderr",
     "output_type": "stream",
     "text": [
      "C:\\Users\\kaj\\AppData\\Local\\Temp/ipykernel_2976/155735201.py:5: SettingWithCopyWarning: \n",
      "A value is trying to be set on a copy of a slice from a DataFrame.\n",
      "Try using .loc[row_indexer,col_indexer] = value instead\n",
      "\n",
      "See the caveats in the documentation: https://pandas.pydata.org/pandas-docs/stable/user_guide/indexing.html#returning-a-view-versus-a-copy\n",
      "  lowest_price_range[\"price_range (dollar)\"] = pd.cut(lowest_price_range.Price, bins, labels = labels,include_lowest = True)\n"
     ]
    },
    {
     "data": {
      "image/png": "[encoded data removed]",
      "text/plain": [
       "<Figure size 432x288 with 1 Axes>"
      ]
     },
     "metadata": {
      "needs_background": "light"
     },
     "output_type": "display_data"
    }
   ],
   "source": [
    "lowest_price_range = price_df[price_df['price_range (dollar)'] == '0-199']\n",
    "\n",
    "bins = [0, 39, 79, 119, 159, 199]\n",
    "labels = ['0-39', '40-79', '80-119', '120-159', '160-199']\n",
    "lowest_price_range[\"price_range (dollar)\"] = pd.cut(lowest_price_range.Price, bins, labels = labels,include_lowest = True)\n",
    "\n",
    "sns.histplot(x = lowest_price_range['price_range (dollar)']).set_title(\"Detail lowest price range distribution\");"
   ]
  },
  {
   "cell_type": "code",
   "execution_count": 167,
   "id": "24547987",
   "metadata": {},
   "outputs": [
    {
     "data": {
      "text/plain": [
       "price_range (dollar)\n",
       "0-39        27\n",
       "40-79       40\n",
       "80-119     143\n",
       "120-159    288\n",
       "160-199     31\n",
       "dtype: int64"
      ]
     },
     "execution_count": 167,
     "metadata": {},
     "output_type": "execute_result"
    }
   ],
   "source": [
    "lowest_price_range.groupby(['price_range (dollar)']).size()"
   ]
  },
  {
   "cell_type": "markdown",
   "id": "e1e505c7",
   "metadata": {},
   "source": [
    "De bovenstaande grafiek laat zien dat 67 klanten een hotel willen boeken die minder dan 80 dollar per nacht is. Er zijn maar weinig hotels waar je terecht kan met dit budget. Verwacht wordt dat sommige bedragen niet helemaal kloppen."
   ]
  },
  {
   "cell_type": "markdown",
   "id": "f9d3acb1",
   "metadata": {},
   "source": [
    "5.2 Wat is de verdeling binnen de hoogste prijsklasse?"
   ]
  },
  {
   "cell_type": "code",
   "execution_count": 36,
   "id": "5fc6928d",
   "metadata": {
    "scrolled": true
   },
   "outputs": [
    {
     "name": "stderr",
     "output_type": "stream",
     "text": [
      "C:\\Users\\kaj\\AppData\\Local\\Temp/ipykernel_2976/2432593776.py:5: SettingWithCopyWarning: \n",
      "A value is trying to be set on a copy of a slice from a DataFrame.\n",
      "Try using .loc[row_indexer,col_indexer] = value instead\n",
      "\n",
      "See the caveats in the documentation: https://pandas.pydata.org/pandas-docs/stable/user_guide/indexing.html#returning-a-view-versus-a-copy\n",
      "  highest_price_range[\"price_range (dollar)\"] = pd.cut(highest_price_range.Price, bins, labels = labels,include_lowest = True)\n"
     ]
    },
    {
     "data": {
      "image/png": "[encoded data removed]",
      "text/plain": [
       "<Figure size 432x288 with 1 Axes>"
      ]
     },
     "metadata": {
      "needs_background": "light"
     },
     "output_type": "display_data"
    }
   ],
   "source": [
    "highest_price_range = price_df[price_df['price_range (dollar)'] == '800+']\n",
    "\n",
    "bins = [799, 849, 899, 949, 999, 100000]\n",
    "labels = ['800-849', '850-899', '900-949', '950-999', '1000+']\n",
    "highest_price_range[\"price_range (dollar)\"] = pd.cut(highest_price_range.Price, bins, labels = labels,include_lowest = True)\n",
    "\n",
    "sns.histplot(x = highest_price_range['price_range (dollar)']).set_title(\"Detail highest price range distribution\");"
   ]
  },
  {
   "cell_type": "markdown",
   "id": "3e832ad1",
   "metadata": {},
   "source": [
    "De bovenstaande grafiek laat zien dat 43 klanten een hotel willen boeken die meer dan 1000 dollar per nacht is. Er zijn maar weinig hotels waar je terecht kan met dit budget. Verwacht wordt dat sommige bedragen in de dataset niet helemaal kloppen."
   ]
  },
  {
   "cell_type": "code",
   "execution_count": 112,
   "id": "3867740d",
   "metadata": {},
   "outputs": [
    {
     "name": "stdout",
     "output_type": "stream",
     "text": [
      "Dit is een voorbeeld van een erg hoog bedrag dat iemand per nacht wilt betalen:                                                The price range on them is $4,300 or less per night.\n"
     ]
    }
   ],
   "source": [
    "print(\"Dit is een voorbeeld van een erg hoog bedrag dat iemand per nacht wilt betalen:                                                \" + \n",
    "      hotel_conversation_normal.loc[46923]['text_response'])"
   ]
  },
  {
   "cell_type": "markdown",
   "id": "fcc20e54",
   "metadata": {},
   "source": [
    "#### 6. Wat zijn de voorkeuren van mensen voor sterrenclassificatie van een hotel?"
   ]
  },
  {
   "cell_type": "code",
   "execution_count": 7,
   "id": "5dd11d10",
   "metadata": {},
   "outputs": [],
   "source": [
    "customer_rating = get_list('customer_rating', 'customer_rating')\n",
    "\n",
    "ratings_list = []\n",
    "for text in customer_rating:\n",
    "    for words in re.split(' |-', text[2]):\n",
    "        try:\n",
    "            ratings_list.append((text[0], text[1], float(words)))\n",
    "        except ValueError:\n",
    "            try:\n",
    "                ratings_list.append((text[0], text[1], w2n.word_to_num(words)))\n",
    "            except ValueError:\n",
    "                pass\n",
    "            \n",
    "#Get only user ratings\n",
    "user_rating_list = []\n",
    "for index, row in hotel_conversation_normal.iterrows():\n",
    "    for rating in ratings_list:\n",
    "        if rating[0] == row['conversation_id'] and rating[1] == row['response_id']:\n",
    "            if row['speaker'] == 'USER':\n",
    "                user_rating_list.append(rating)            "
   ]
  },
  {
   "cell_type": "code",
   "execution_count": 10,
   "id": "751facc0",
   "metadata": {
    "scrolled": true
   },
   "outputs": [
    {
     "data": {
      "image/png": "[encoded data removed]",
      "text/plain": [
       "<Figure size 432x288 with 1 Axes>"
      ]
     },
     "metadata": {
      "needs_background": "light"
     },
     "output_type": "display_data"
    }
   ],
   "source": [
    "rating_df = pd.DataFrame(set(user_rating_list), columns=['Conversation_ID', 'Text_Response_ID', 'Rating'])\n",
    "\n",
    "#Categorize prices into different groups\n",
    "bins = [0, 0.9, 1.9, 2.9, 3.9, 5.9]\n",
    "labels = ['0-1', '1-2', '2-3', '3-4', '4-5']\n",
    "rating_df['rating_category (stars)'] = pd.cut(rating_df.Rating, bins, labels = labels,include_lowest = True)\n",
    "\n",
    "#Visualize price groups\n",
    "sns.histplot(data=rating_df, x='rating_category (stars)').set_title(\"Star rating range distribution\");"
   ]
  },
  {
   "cell_type": "markdown",
   "id": "692dfb7f",
   "metadata": {},
   "source": [
    "De bovenstaande grafiek toont de verdeling van het aantal sterren van een hotel. De grafiek laat zien dat klanten graag overnachten in een hotel met drie sterren of meer. Meer dan 300 klanten verblijven zelfs het liefst in een vier tot vijf sterrenhotel. Dit komt tevens overheen met het bedrag dat klanten per nacht willen betalen. "
   ]
  },
  {
   "cell_type": "markdown",
   "id": "3a196f4f",
   "metadata": {},
   "source": [
    "#### 7. Wat is het percentage antwoorden dat gegeven wordt door een gebruiker en een assistant?"
   ]
  },
  {
   "cell_type": "code",
   "execution_count": 11,
   "id": "28759729",
   "metadata": {
    "scrolled": true
   },
   "outputs": [
    {
     "data": {
      "image/png": "[encoded data removed]",
      "text/plain": [
       "<Figure size 432x288 with 1 Axes>"
      ]
     },
     "metadata": {
      "needs_background": "light"
     },
     "output_type": "display_data"
    }
   ],
   "source": [
    "df_assistant_vs_user = hotel_conversation_normal.groupby(['speaker']).size().reset_index()\n",
    "df_assistant_vs_user.rename(columns={0: 'aantal'}, inplace=True)\n",
    "\n",
    "totaal = sum(df_assistant_vs_user['aantal'])\n",
    "percentage_list = []\n",
    "for i in range(0, len(df_assistant_vs_user)):\n",
    "    percentage_list.append(df_assistant_vs_user.loc[i]['aantal']/totaal)\n",
    "df_assistant_vs_user['percentage'] = percentage_list\n",
    "\n",
    "sns.barplot(x='speaker', y='percentage', data=df_assistant_vs_user, palette=\"Blues_d\").set_title(\"Percentage user and assistant sentences\");"
   ]
  },
  {
   "cell_type": "markdown",
   "id": "8641698e",
   "metadata": {},
   "source": [
    "De bovenstaande grafiek toont de gespreksverdeling tussen een medewerker en een klant. De grafiek laat zien dat de klantenservice met 54% een iets groter aandeel in de gesprekken heeft dan de klant (46%). Dit is conform het verwachtingspatroon van een klantenservice. De klantenservice medewerker is toch degene die de meeste vragen stelt om een klant te helpen. "
   ]
  },
  {
   "cell_type": "markdown",
   "id": "0fd474ad",
   "metadata": {},
   "source": [
    "#### 8. Wat is het percentage positieve en negatieve woorden in de conversaties?"
   ]
  },
  {
   "cell_type": "code",
   "execution_count": 59,
   "id": "ad3d6ca7",
   "metadata": {},
   "outputs": [
    {
     "name": "stderr",
     "output_type": "stream",
     "text": [
      "C:\\Users\\kaj\\AppData\\Local\\Temp/ipykernel_2976/2481010589.py:20: FutureWarning: Indexing with multiple keys (implicitly converted to a tuple of keys) will be deprecated, use a list instead.\n",
      "  df_positive = df_positive.groupby(['conversation_id', 'segment'])['count', 'amount_words', 'segment'].sum().reset_index()\n"
     ]
    }
   ],
   "source": [
    "positive_file = open(\"positive-words.txt\", \"r\").read()\n",
    "positive_words = positive_file.splitlines()\n",
    "positiveword_count_list = []\n",
    "\n",
    "#Check amount of words and positive words for each sentences in conversations\n",
    "for index, response in hotel_conversation_normal['text_response'].iteritems():\n",
    "    amountwords = len(word_tokenize(response))\n",
    "    positivewords = [word for word in word_tokenize(response) if word in positive_words]\n",
    "    positiveword_count_list.append((index, amountwords, len(positivewords)))\n",
    "\n",
    "#Make new dataframe with amount of words and positive words\n",
    "df_positive = pd.DataFrame(columns=['index', 'conversation_id', 'amount_words', 'count', 'segment'])\n",
    "df_positive['index'] = [index[0] for index in positiveword_count_list]\n",
    "df_positive['amount_words'] = [amount_words[1] for amount_words in positiveword_count_list]\n",
    "df_positive['count'] = [positive_count[2] for positive_count in positiveword_count_list]\n",
    "df_positive['conversation_id'] = hotel_conversation_normal['conversation_id']\n",
    "df_positive['segment'] = 'Positive'\n",
    "\n",
    "#Sum amount of words and positive words for each conversation\n",
    "df_positive = df_positive.groupby(['conversation_id', 'segment'])['count', 'amount_words'].sum().reset_index()"
   ]
  },
  {
   "cell_type": "code",
   "execution_count": 61,
   "id": "7a9526a0",
   "metadata": {
    "scrolled": true
   },
   "outputs": [
    {
     "name": "stderr",
     "output_type": "stream",
     "text": [
      "C:\\Users\\kaj\\AppData\\Local\\Temp/ipykernel_2976/2927374346.py:20: FutureWarning: Indexing with multiple keys (implicitly converted to a tuple of keys) will be deprecated, use a list instead.\n",
      "  df_negative = df_negative.groupby(['conversation_id', 'segment'])['count', 'amount_words'].sum().reset_index()\n"
     ]
    }
   ],
   "source": [
    "negative_file = open(\"negative-words.txt\", \"r\").read()\n",
    "negative_words = negative_file.splitlines()\n",
    "negativeword_count_list = []\n",
    "\n",
    "#Check amount of words and positive words for each sentences in conversations\n",
    "for index, response in hotel_conversation_normal['text_response'].iteritems():\n",
    "    amountwords = len(word_tokenize(response))\n",
    "    negativewords = [word for word in word_tokenize(response) if word in negative_words]\n",
    "    negativeword_count_list.append((index, amountwords, len(negativewords)))\n",
    "\n",
    "#Make new dataframe with amount of words and positive words\n",
    "df_negative = pd.DataFrame(columns=['index', 'conversation_id', 'amount_words', 'count', 'segment'])\n",
    "df_negative['index'] = [index[0] for index in negativeword_count_list]\n",
    "df_negative['amount_words'] = [amount_words[1] for amount_words in negativeword_count_list]\n",
    "df_negative['count'] = [negative_count[2] for negative_count in negativeword_count_list]\n",
    "df_negative['conversation_id'] = hotel_conversation_normal['conversation_id']\n",
    "df_negative['segment'] = 'Negative'\n",
    "\n",
    "#Sum amount of words and positive words for each conversation\n",
    "df_negative = df_negative.groupby(['conversation_id', 'segment'])['count', 'amount_words'].sum().reset_index()"
   ]
  },
  {
   "cell_type": "code",
   "execution_count": 79,
   "id": "3acda0d2",
   "metadata": {},
   "outputs": [
    {
     "data": {
      "image/png": "[encoded data removed]",
      "text/plain": [
       "<Figure size 432x288 with 1 Axes>"
      ]
     },
     "metadata": {
      "needs_background": "light"
     },
     "output_type": "display_data"
    }
   ],
   "source": [
    "frames = [df_positive, df_negative]\n",
    "result = pd.concat(frames).reset_index()\n",
    "\n",
    "#Calculate percentage\n",
    "percentage_list = []\n",
    "for i in range(0, len(result)):\n",
    "    percentage_list.append(result.loc[i]['count']/result.loc[i]['amount_words'])\n",
    "result['percentage'] = percentage_list\n",
    "\n",
    "#Make plot\n",
    "sns.barplot(x='segment', y='percentage', data=result, palette=\"Blues_d\").set_title('Percentage positive and negative words in conversations');"
   ]
  },
  {
   "cell_type": "markdown",
   "id": "9ce0df9d",
   "metadata": {},
   "source": [
    "De bovenstaande grafiek toont het aantal positieve en negatieve woorden in de conversaties. Dit aantal is zo laag. 3% van de woorden in de conversaties is namelijk maar positief. Dit betekent dat er geen sentiment analyse uitgevoerd hoeft te worden. "
   ]
  },
  {
   "cell_type": "code",
   "execution_count": null,
   "id": "03efb76b",
   "metadata": {},
   "outputs": [],
   "source": []
  }
 ],
 "metadata": {
  "kernelspec": {
   "display_name": "Python 3 (ipykernel)",
   "language": "python",
   "name": "python3"
  },
  "language_info": {
   "codemirror_mode": {
    "name": "ipython",
    "version": 3
   },
   "file_extension": ".py",
   "mimetype": "text/x-python",
   "name": "python",
   "nbconvert_exporter": "python",
   "pygments_lexer": "ipython3",
   "version": "3.9.7"
  }
 },
 "nbformat": 4,
 "nbformat_minor": 5
}
